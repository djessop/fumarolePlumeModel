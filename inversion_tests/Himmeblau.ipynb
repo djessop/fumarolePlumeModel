{
 "cells": [
  {
   "cell_type": "code",
   "execution_count": 1,
   "metadata": {},
   "outputs": [],
   "source": [
    "import numpy as np\n",
    "import matplotlib as mpl\n",
    "import matplotlib.pyplot as plt\n",
    "import matplotlib.animation as animation\n",
    "from scipy.optimize import fmin\n"
   ]
  },
  {
   "cell_type": "code",
   "execution_count": 10,
   "metadata": {},
   "outputs": [],
   "source": [
    "def himmelblau(x):\n",
    "    return ((x[0]**2 + x[1] -11)**2 + (x[0] + x[1]**2 -7)**2)"
   ]
  },
  {
   "cell_type": "code",
   "execution_count": 18,
   "metadata": {},
   "outputs": [
    {
     "name": "stdout",
     "output_type": "stream",
     "text": [
      "Optimization terminated successfully.\n",
      "         Current function value: 0.000000\n",
      "         Iterations: 49\n",
      "         Function evaluations: 90\n"
     ]
    },
    {
     "data": {
      "image/png": "[encoded data removed]",
      "text/plain": [
       "<Figure size 432x288 with 2 Axes>"
      ]
     },
     "metadata": {
      "needs_background": "light"
     },
     "output_type": "display_data"
    }
   ],
   "source": [
    "fig=plt.figure()\n",
    "x = np.linspace(-5,5)\n",
    "y = np.linspace(-5,5)\n",
    "X,Y = np.meshgrid(x,y)\n",
    "\n",
    "p = (-11, -7)\n",
    "\n",
    "z = np.log10(himmelblau((X,Y)))\n",
    "\n",
    "pco = plt.pcolor(x,y,z)\n",
    "cba = plt.colorbar(pco)\n",
    "\n",
    "minimum = fmin(himmelblau, (2, -4), retall=True)\n",
    "\n",
    "for mi in minimum[1][:-1]:\n",
    "    p, = plt.plot(*mi, '.r')\n",
    "    \n",
    "q, = plt.plot(*minimum[1][-1], 'xk')"
   ]
  },
  {
   "cell_type": "code",
   "execution_count": 14,
   "metadata": {},
   "outputs": [
    {
     "data": {
      "text/plain": [
       "(array([ 3.58440697, -1.84810184]),\n",
       " [array([ 2., -4.]),\n",
       "  array([ 2.15, -3.6 ]),\n",
       "  array([ 2.375, -3.4  ]),\n",
       "  array([ 2.5875, -2.5   ]),\n",
       "  array([ 3.14375, -1.65   ]),\n",
       "  array([ 3.14375, -1.65   ]),\n",
       "  array([ 3.14375, -1.65   ]),\n",
       "  array([ 3.415625, -0.875   ]),\n",
       "  array([ 3.203125, -1.775   ]),\n",
       "  array([ 3.475, -1.   ]),\n",
       "  array([ 3.2625, -1.9   ]),\n",
       "  array([ 3.534375, -1.125   ]),\n",
       "  array([ 3.321875, -2.025   ]),\n",
       "  array([ 3.59375, -1.25   ]),\n",
       "  array([ 3.59375, -1.25   ]),\n",
       "  array([ 3.653125, -1.375   ]),\n",
       "  array([ 3.50234375, -1.73125   ]),\n",
       "  array([ 3.56171875, -1.85625   ]),\n",
       "  array([ 3.56171875, -1.85625   ]),\n",
       "  array([ 3.56171875, -1.85625   ]),\n",
       "  array([ 3.56171875, -1.85625   ]),\n",
       "  array([ 3.56171875, -1.85625   ]),\n",
       "  array([ 3.60286865, -1.84814453]),\n",
       "  array([ 3.57024231, -1.82419434]),\n",
       "  array([ 3.57413712, -1.84620972]),\n",
       "  array([ 3.58752918, -1.84167328]),\n",
       "  array([ 3.58752918, -1.84167328]),\n",
       "  array([ 3.58180685, -1.84944534]),\n",
       "  array([ 3.58180685, -1.84944534]),\n",
       "  array([ 3.5862278 , -1.84685397]),\n",
       "  array([ 3.5862278 , -1.84685397]),\n",
       "  array([ 3.58396829, -1.84928287]),\n",
       "  array([ 3.58396829, -1.84928287]),\n",
       "  array([ 3.58396829, -1.84928287]),\n",
       "  array([ 3.58396829, -1.84928287]),\n",
       "  array([ 3.58465588, -1.8473957 ]),\n",
       "  array([ 3.58433657, -1.84738441]),\n",
       "  array([ 3.58423226, -1.84833646]),\n",
       "  array([ 3.58423226, -1.84833646]),\n",
       "  array([ 3.58423226, -1.84833646]),\n",
       "  array([ 3.5843846 , -1.84804318]),\n",
       "  array([ 3.5843846 , -1.84804318]),\n",
       "  array([ 3.5843846 , -1.84804318]),\n",
       "  array([ 3.5843846 , -1.84804318]),\n",
       "  array([ 3.5843846 , -1.84804318]),\n",
       "  array([ 3.5843846 , -1.84804318]),\n",
       "  array([ 3.58447343, -1.84816953]),\n",
       "  array([ 3.58438525, -1.84815147]),\n",
       "  array([ 3.58440697, -1.84810184]),\n",
       "  array([ 3.58440697, -1.84810184])])"
      ]
     },
     "execution_count": 14,
     "metadata": {},
     "output_type": "execute_result"
    }
   ],
   "source": []
  },
  {
   "cell_type": "code",
   "execution_count": null,
   "metadata": {},
   "outputs": [],
   "source": []
  }
 ],
 "metadata": {
  "kernelspec": {
   "display_name": "Python 3 (ipykernel)",
   "language": "python",
   "name": "python3"
  },
  "language_info": {
   "codemirror_mode": {
    "name": "ipython",
    "version": 3
   },
   "file_extension": ".py",
   "mimetype": "text/x-python",
   "name": "python",
   "nbconvert_exporter": "python",
   "pygments_lexer": "ipython3",
   "version": "3.10.4"
  }
 },
 "nbformat": 4,
 "nbformat_minor": 2
}
