{
 "cells": [
  {
   "cell_type": "code",
   "execution_count": 1,
   "metadata": {},
   "outputs": [],
   "source": [
    "from bentPlumeAnalyser import *\n",
    "from fumarolePlumeModel import *\n",
    "from scipy.io.matlab import loadmat\n",
    "\n",
    "import pandas \n",
    "import numpy as np\n",
    "import matplotlib.pyplot as plt\n",
    "import matplotlib as mpl\n",
    "import os, sys\n",
    "import json\n",
    "\n",
    "# Set numpy options, notably for the printing of floating point numbers\n",
    "np.set_printoptions(precision=6)\n",
    "\n",
    "# Set matplotlib options\n",
    "mpl.rcParams['figure.dpi'] = 300"
   ]
  },
  {
   "cell_type": "code",
   "execution_count": 2,
   "metadata": {},
   "outputs": [
    {
     "data": {
      "text/html": [
       "<div>\n",
       "<style scoped>\n",
       "    .dataframe tbody tr th:only-of-type {\n",
       "        vertical-align: middle;\n",
       "    }\n",
       "\n",
       "    .dataframe tbody tr th {\n",
       "        vertical-align: top;\n",
       "    }\n",
       "\n",
       "    .dataframe thead th {\n",
       "        text-align: right;\n",
       "    }\n",
       "</style>\n",
       "<table border=\"1\" class=\"dataframe\">\n",
       "  <thead>\n",
       "    <tr style=\"text-align: right;\">\n",
       "      <th></th>\n",
       "      <th>axisLocn_x</th>\n",
       "      <th>axisLocn_y</th>\n",
       "      <th>distAlongAxis</th>\n",
       "      <th>plumeAngle</th>\n",
       "      <th>plumeWidth</th>\n",
       "    </tr>\n",
       "  </thead>\n",
       "  <tbody>\n",
       "    <tr>\n",
       "      <th>0</th>\n",
       "      <td>-0.082073</td>\n",
       "      <td>0.122375</td>\n",
       "      <td>0.147349</td>\n",
       "      <td>1.510677</td>\n",
       "      <td>0.277366</td>\n",
       "    </tr>\n",
       "    <tr>\n",
       "      <th>1</th>\n",
       "      <td>0.079714</td>\n",
       "      <td>1.257440</td>\n",
       "      <td>1.293886</td>\n",
       "      <td>1.449785</td>\n",
       "      <td>0.319537</td>\n",
       "    </tr>\n",
       "    <tr>\n",
       "      <th>2</th>\n",
       "      <td>0.024641</td>\n",
       "      <td>2.499398</td>\n",
       "      <td>2.537064</td>\n",
       "      <td>1.176742</td>\n",
       "      <td>0.650992</td>\n",
       "    </tr>\n",
       "    <tr>\n",
       "      <th>3</th>\n",
       "      <td>1.443832</td>\n",
       "      <td>4.561191</td>\n",
       "      <td>5.040081</td>\n",
       "      <td>0.783431</td>\n",
       "      <td>1.048499</td>\n",
       "    </tr>\n",
       "    <tr>\n",
       "      <th>4</th>\n",
       "      <td>2.855947</td>\n",
       "      <td>5.234923</td>\n",
       "      <td>6.604684</td>\n",
       "      <td>0.565428</td>\n",
       "      <td>1.329422</td>\n",
       "    </tr>\n",
       "  </tbody>\n",
       "</table>\n",
       "</div>"
      ],
      "text/plain": [
       "   axisLocn_x  axisLocn_y  distAlongAxis  plumeAngle  plumeWidth\n",
       "0   -0.082073    0.122375       0.147349    1.510677    0.277366\n",
       "1    0.079714    1.257440       1.293886    1.449785    0.319537\n",
       "2    0.024641    2.499398       2.537064    1.176742    0.650992\n",
       "3    1.443832    4.561191       5.040081    0.783431    1.048499\n",
       "4    2.855947    5.234923       6.604684    0.565428    1.329422"
      ]
     },
     "execution_count": 2,
     "metadata": {},
     "output_type": "execute_result"
    }
   ],
   "source": [
    "exptNo   = 3\n",
    "plotResults = True\n",
    "\n",
    "# Read analysed experimental data from file\n",
    "fname    = './data/ExpPlumes_for_Dai/GCTA_plumeData.xlsx'\n",
    "exptData = pandas.read_excel(fname, sheet_name='exp%02d' % exptNo)\n",
    "\n",
    "# Display the first 5 lines of the data frame\n",
    "exptData.head()"
   ]
  },
  {
   "cell_type": "code",
   "execution_count": 3,
   "metadata": {},
   "outputs": [],
   "source": [
    "## DEFINE THE DISTANCE ALONG THE AXIS, THE ANGLE AND THE WIDTH OF THE PLUME\n",
    "# sexp  = exptData.distAlongAxis\n",
    "# thexp = exptData.plumeAngle\n",
    "# bexp  = exptData.plumeWidth\n",
    "\n",
    "path = './data/ExpPlumes_for_Dai/exp%02d/' % exptNo\n",
    "with open(path + 'exp%02d_initGuess.json' % exptNo) as f:\n",
    "    data = json.load(f)\n",
    "p = np.array(data['data'])\n",
    "\n",
    "data = np.flipud(loadmat(path + 'gsplume.mat')['gsplume'])\n",
    "xexp = loadmat(path + 'xcenter.mat')['xcenter'][0]\n",
    "zexp = loadmat(path + 'zcenter.mat')['zcenter'][0]\n",
    "Ox, Oz = (xexp[0], zexp[0])\n",
    "xexp = (xexp - Ox) / scaleFactor\n",
    "zexp = (Oz - zexp) / scaleFactor\n",
    "\n",
    "pPixels = p.copy() * scaleFactor\n",
    "pPixels[:,0] += Ox\n",
    "pPixels[:,1] -= Oz\n",
    "pPixels[:,1] *= -1\n",
    "\n",
    "# Calculate angle, width and distance along plume and errors\n",
    "thexp, sig_thexp = plumeAngle(p[:,0], p[:,1], errors=[1/scaleFactor]*2)\n",
    "_, bexp, sig_p, sig_bexp = trueLocationWidth(pPixels, data, errors=[1/scaleFactor])\n",
    "sexp      = distAlongPath(p[:,0], p[:,1])\n",
    "bexp     /= scaleFactor\n",
    "sig_bexp /= scaleFactor\n",
    "bexp[0]   = 0.55 / 2\n",
    "thexp[0]  = np.pi / 2"
   ]
  },
  {
   "cell_type": "code",
   "execution_count": 4,
   "metadata": {},
   "outputs": [],
   "source": [
    "# Load initial conditions for a given experiment, run the model for those conditions \n",
    "# and then compare model and experimental data\n",
    "pathname = '/home/david/Modelling/fumarolePlumeModel/data/'\n",
    "V0, p = loadICsParameters(pathname, exptNo)\n",
    "#%run fumarolePlumeModel.py\n",
    "V0[0] *= 2.\n",
    "\n",
    "# Initialise an integrator object\n",
    "r = ode(derivs).set_integrator('lsoda', nsteps=1e6)\n",
    "r.set_initial_value(V0, 0.)\n",
    "r.set_f_params(p)\n",
    "V = [V0]    # State vector\n",
    "s = [0.]    # Axial distance\n",
    "\n",
    "# Set integration domain and step size\n",
    "t1 = 30.\n",
    "dt = .1\n",
    "\n",
    "# Integrate, whilst successful, until the domain size is reached\n",
    "while r.successful() and r.t < t1:\n",
    "    r.integrate(r.t + dt)\n",
    "    V.append(r.y)\n",
    "    s.append(r.t)"
   ]
  },
  {
   "cell_type": "code",
   "execution_count": 5,
   "metadata": {},
   "outputs": [],
   "source": [
    "s = np.array(s)\n",
    "V = np.array(V)\n",
    "    \n",
    "# Calculate the model predictions\n",
    "# Extract the plume parameters from the state vector\n",
    "q     = V[:,0]\n",
    "m     = V[:,1]\n",
    "f     = V[:,2]\n",
    "theta = V[:,3]\n",
    "\n",
    "# Calculate more intuitive plume parameters (width, speed and specific gravity)\n",
    "b  = q / np.sqrt(m)\n",
    "u  = m / q\n",
    "gp = f / q\n",
    "\n",
    "xmod, zmod = [0.], [0.]\n",
    "ds_ = np.diff(s)\n",
    "for (ds, th) in zip(ds_, theta):\n",
    "    xmod.append(xmod[-1] + ds * np.cos(th))\n",
    "    zmod.append(zmod[-1] + ds * np.sin(th))"
   ]
  },
  {
   "cell_type": "code",
   "execution_count": 6,
   "metadata": {},
   "outputs": [],
   "source": [
    "# Directly compare the plume width and angle for experiment and model\n",
    "# First, the model data has to be interpolated onto the same grid as the experimental data\n",
    "from scipy.interpolate import interp1d\n",
    "# Plume width\n",
    "f = interp1d(s, b)\n",
    "bmod = f(sexp)\n",
    "# Plume angle\n",
    "f = interp1d(s, theta)\n",
    "thmod = f(sexp)"
   ]
  },
  {
   "cell_type": "code",
   "execution_count": 7,
   "metadata": {},
   "outputs": [],
   "source": [
    "# Calculate an \"objective function\" which measures the misfit between data and model\n",
    "# Initially, only use width and angle\n",
    "Vexp = np.array([bexp, thexp]).T\n",
    "Vmod = np.array([bmod, thmod]).T\n",
    "sigV = np.array([sig_bexp, sig_thexp]).T\n",
    "\n",
    "# The residual between experimental and model data\n",
    "res = (Vexp - Vmod) / sigV\n",
    "objFn = objectiveFn(Vexp.ravel(), Vmod.ravel(), np.diagflat(sigV.ravel())**2, p)"
   ]
  },
  {
   "cell_type": "code",
   "execution_count": 11,
   "metadata": {
    "scrolled": true
   },
   "outputs": [
    {
     "data": {
      "image/png": "[encoded data removed]",
      "text/plain": [
       "<Figure size 576x288 with 2 Axes>"
      ]
     },
     "metadata": {
      "needs_background": "light"
     },
     "output_type": "display_data"
    }
   ],
   "source": [
    "fig, ax = plt.subplots(1, 2, figsize=(8,4))\n",
    "\n",
    "# On an image of the experimental plume, show the plume trajectories for\n",
    "# 1) GCTA, 2) our initial guess, 3) the model solution\n",
    "data, xexp, zexp, extent = loadExptData(exptNo)\n",
    "if data.mean() < .5:\n",
    "    data = 1. - data\n",
    "ax[0].imshow(data, extent=extent, cmap=plt.cm.gray)\n",
    "ax[0].invert_yaxis()\n",
    "ax[0].set_xlabel(r'$x$/[cm]')\n",
    "ax[0].set_ylabel(r'$z$/[cm]')\n",
    "# 1) GCTA\n",
    "ax[0].plot(xexp, zexp, '-r', label='Plume axis', lw=2)\n",
    "# 2) our initial guess\n",
    "# ax[0].plot(exptData.axisLocn_x, exptData.axisLocn_y, 'r-', label='Init. guess', lw=2)\n",
    "# 3) the model solution\n",
    "ax[0].plot(xmod, zmod, '--g', label='model', lw=1)\n",
    "ax[0].set_xlim((extent[:2]))\n",
    "ax[0].legend(loc=2)\n",
    "\n",
    "ax[1].plot(res[:,0], sexp, '-', label=r'$(b_{\\mathrm{exp}} - b_{\\mathrm{mod}})/\\sigma_b$/[cm]')\n",
    "ax[1].plot(res[:,1], sexp, '-', label=r'$(\\theta_{\\mathrm{exp}} - \\theta_{\\mathrm{mod}})/\\sigma_{\\theta}$/[-]')\n",
    "ax[1].legend(loc=1, fancybox=True, framealpha=.8)\n",
    "ax[1].grid()\n",
    "ax[1].set_ylabel('Distance along plume axis, s/[cm]')\n",
    "\n",
    "fig.savefig('plumeAnalyser_solution.png')\n",
    "\n",
    "# ax[1].set_title('Objective fn: %.3f' % objFn)"
   ]
  },
  {
   "cell_type": "markdown",
   "metadata": {},
   "source": [
    "(*Left*) Image of experimental plume with calculated and estimated trajectories.  (*Right*) Difference between experimental (guessed) and model solutions as a function of the distance along the plume axis.  "
   ]
  },
  {
   "cell_type": "markdown",
   "metadata": {},
   "source": [
    "# To do:\n",
    "- Make a grid of possible initial conditions and run the model for each case.  DONE\n",
    "- Compare these solutions against the experimental data, computing an objective funtion for each case.  DONE\n",
    "- Identify which cases produce minima in the objective function.  DONE\n",
    "- Work in the downhill simplex (or other minimisation routine) to look for minima of the objective function.\n",
    "- Plot the plume width along with axis track on averaged image.  "
   ]
  },
  {
   "cell_type": "code",
   "execution_count": null,
   "metadata": {},
   "outputs": [],
   "source": []
  },
  {
   "cell_type": "code",
   "execution_count": 10,
   "metadata": {},
   "outputs": [
    {
     "name": "stdout",
     "output_type": "stream",
     "text": [
      "[NbConvertApp] Converting notebook plumeAnalyser.ipynb to latex\n",
      "[NbConvertApp] Support files will be in plumeAnalyser_files/\n",
      "[NbConvertApp] Making directory plumeAnalyser_files\n",
      "[NbConvertApp] Writing 36000 bytes to plumeAnalyser.tex\n"
     ]
    }
   ],
   "source": [
    "# Uncomment the following line to transform this notebook into a latex file\n",
    "!jupyter nbconvert --to latex plumeAnalyser.ipynb"
   ]
  },
  {
   "cell_type": "code",
   "execution_count": 11,
   "metadata": {},
   "outputs": [],
   "source": [
    "# Now run pdflatex plumeAnalyser from the command line"
   ]
  }
 ],
 "metadata": {
  "kernelspec": {
   "display_name": "Python 3",
   "language": "python",
   "name": "python3"
  },
  "language_info": {
   "codemirror_mode": {
    "name": "ipython",
    "version": 3
   },
   "file_extension": ".py",
   "mimetype": "text/x-python",
   "name": "python",
   "nbconvert_exporter": "python",
   "pygments_lexer": "ipython3",
   "version": "3.5.2"
  }
 },
 "nbformat": 4,
 "nbformat_minor": 2
}
