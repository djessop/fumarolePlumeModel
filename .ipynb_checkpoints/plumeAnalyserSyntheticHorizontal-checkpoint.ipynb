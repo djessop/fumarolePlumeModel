{
 "cells": [
  {
   "cell_type": "code",
   "execution_count": 1,
   "metadata": {},
   "outputs": [],
   "source": [
    "from scipy.io.matlab import loadmat\n",
    "from itertools import product\n",
    "from scipy.optimize import fmin, minimize\n",
    "\n",
    "from bentPlumeAnalyser import *\n",
    "from fumarolePlumeModel import (derivs, wind, objectiveFn, objectiveFn2, objectiveFn3, \n",
    "                                loadICsParameters, loadExptData, pathname, integrator2 as integrator)\n",
    "\n",
    "\n",
    "import pandas as pd\n",
    "import numpy as np\n",
    "import matplotlib.pyplot as plt\n",
    "import matplotlib as mpl\n",
    "import os, sys\n",
    "import json\n",
    "import matplotlib.animation as animation\n",
    "\n",
    "# Set numpy options, notably for the printing of floating point numbers\n",
    "np.set_printoptions(precision=6)\n",
    "\n",
    "# Set matplotlib options\n",
    "mpl.rcParams['figure.dpi'] = 300\n",
    "\n",
    "%reload_ext autoreload\n",
    "%autoreload 2"
   ]
  },
  {
   "cell_type": "code",
   "execution_count": 2,
   "metadata": {},
   "outputs": [],
   "source": [
    "run = 3\n",
    "\n",
    "# Import table of experimental conditions\n",
    "GCTA = pd.read_excel('./data/ExpPlumes_for_Dai/TableA1.xlsx', sheet_name='CGSdata', skiprows=2, \n",
    "                     names=('exptNo', 'rhoa0', 'sig_rhoa0', 'N', 'sig_N', 'rho0', 'sig_rho0', 'U0', 'sig_U0', 'W', 'sig_W', \n",
    "                            'gp', 'sig_gp', 'Q0','sig_Q0', 'M0', 'sig_M0', 'F0', 'sig_F0', 'Ri_0', 'sig_Ri_o', 'W*','sig_W*'))\n",
    "\n",
    "# Extract densities of ambient and plume, and calculate g' at the source\n",
    "expt  = GCTA[GCTA['exptNo'] == run]\n",
    "rhoa0 = expt['rhoa0']\n",
    "rho0  = expt['rho0']\n",
    "g = 981 #cm/s²\n",
    "gp0   = (rhoa0 - rho0) / rhoa0 * g\n",
    "\n",
    "parameters = pd.read_excel('./data/ExpPlumes_for_Dai/TableA1.xlsx', sheet_name='CGSparameters')\n",
    "b0theoretical = parameters[parameters['property'] == 'nozzleSize']['value'].values[0]\n",
    "u0theoretical = expt['U0'].values[0]"
   ]
  },
  {
   "cell_type": "markdown",
   "metadata": {},
   "source": [
    "### Create a synthetic dataset for a vertical plume"
   ]
  },
  {
   "cell_type": "code",
   "execution_count": 6,
   "metadata": {},
   "outputs": [],
   "source": [
    "exptNo      = 3\n",
    "plotResults = True\n",
    "\n",
    "# V0, p = loadICsParameters(pathname, exptNo, alpha=0.05, beta=0.5, m=1)\n",
    "V0 = [7.957982, 209.353637,  13.291464, 1.570796]\n",
    "p  = (0.05, 0.5, 0.313390044481266, 1, 4.8)\n",
    "\n",
    "t1 = 30.\n",
    "dt = .1\n",
    "sexp = np.arange(0., t1 + dt, dt)\n",
    "dsexp = np.diff(sexp)"
   ]
  },
  {
   "cell_type": "code",
   "execution_count": 8,
   "metadata": {},
   "outputs": [
    {
     "ename": "ValueError",
     "evalue": "too many values to unpack (expected 4)",
     "output_type": "error",
     "traceback": [
      "\u001b[0;31m---------------------------------------------------------------------------\u001b[0m",
      "\u001b[0;31mValueError\u001b[0m                                Traceback (most recent call last)",
      "Input \u001b[0;32mIn [8]\u001b[0m, in \u001b[0;36m<cell line: 2>\u001b[0;34m()\u001b[0m\n\u001b[1;32m      1\u001b[0m Q0, M0, F0, theta0 \u001b[38;5;241m=\u001b[39m V0\n\u001b[0;32m----> 2\u001b[0m s, V \u001b[38;5;241m=\u001b[39m \u001b[43mintegrator\u001b[49m\u001b[43m(\u001b[49m\u001b[43mderivs\u001b[49m\u001b[43m,\u001b[49m\u001b[43m \u001b[49m\u001b[43mV0\u001b[49m\u001b[43m,\u001b[49m\u001b[43m \u001b[49m\u001b[43mp\u001b[49m\u001b[43m,\u001b[49m\u001b[43m \u001b[49m\u001b[43msexp\u001b[49m\u001b[43m)\u001b[49m\n\u001b[1;32m      4\u001b[0m fig, ax \u001b[38;5;241m=\u001b[39m plt\u001b[38;5;241m.\u001b[39msubplots(\u001b[38;5;241m1\u001b[39m, \u001b[38;5;241m2\u001b[39m, sharey\u001b[38;5;241m=\u001b[39m\u001b[38;5;28;01mTrue\u001b[39;00m)\n\u001b[1;32m      5\u001b[0m ax[\u001b[38;5;241m0\u001b[39m]\u001b[38;5;241m.\u001b[39mplot(V, s, \u001b[38;5;124m'\u001b[39m\u001b[38;5;124m-\u001b[39m\u001b[38;5;124m'\u001b[39m)\n",
      "File \u001b[0;32m~/Modelling/fumarolePlumeModel/fumarolePlumeModel.py:198\u001b[0m, in \u001b[0;36mintegrator\u001b[0;34m(p, s0, V0, derivs)\u001b[0m\n\u001b[1;32m    195\u001b[0m s\u001b[38;5;241m.\u001b[39mappend(s0)\n\u001b[1;32m    197\u001b[0m \u001b[38;5;66;03m# Define the individual variables - these will be calculated at run time\u001b[39;00m\n\u001b[0;32m--> 198\u001b[0m Q, M, F, theta \u001b[38;5;241m=\u001b[39m V0  \u001b[38;5;66;03m# 0., 0., 0., 0.\u001b[39;00m\n\u001b[1;32m    199\u001b[0m Q \u001b[38;5;241m=\u001b[39m np\u001b[38;5;241m.\u001b[39mfloat64(Q)\n\u001b[1;32m    200\u001b[0m M \u001b[38;5;241m=\u001b[39m np\u001b[38;5;241m.\u001b[39mfloat64(M)\n",
      "\u001b[0;31mValueError\u001b[0m: too many values to unpack (expected 4)"
     ]
    }
   ],
   "source": [
    "Q0, M0, F0, theta0 = V0\n",
    "s, V = integrator(derivs, V0, p, sexp)\n",
    "\n",
    "fig, ax = plt.subplots(1, 2, sharey=True)\n",
    "ax[0].plot(V, s, '-')\n",
    "\n",
    "Q, M, F, theta = [V[:,i] for i in range(4)]\n",
    "b, u, gp = Q / np.sqrt(M), M / Q, F / Q\n",
    "\n",
    "V2 = np.array([b, u, gp]).T\n",
    "ax[1].plot(V2, s, '-')\n",
    "ax[1].set_xlim((-5, 30))\n",
    "ax[1].grid()\n",
    "\n",
    "sexp = np.copy(s)\n",
    "dsexp = np.diff(sexp)"
   ]
  },
  {
   "cell_type": "markdown",
   "metadata": {},
   "source": [
    "### Add noise to signal"
   ]
  },
  {
   "cell_type": "code",
   "execution_count": 20,
   "metadata": {
    "scrolled": false
   },
   "outputs": [
    {
     "data": {
      "image/png": "[encoded data removed]",
      "text/plain": [
       "<Figure size 432x288 with 1 Axes>"
      ]
     },
     "metadata": {},
     "output_type": "display_data"
    }
   ],
   "source": [
    "plt.plot(V2, s, '-')\n",
    "V3 = V2.copy()\n",
    "ecart_type= 0.3\n",
    "for i in range(3):\n",
    "    noise = np.random.normal(0, .8, len(sexp))\n",
    "    V3[:,i] = V2[:,i] + noise\n",
    "    plt.plot(V3[:,i], s, '.', c='C%d' % i, ms=1.5)\n",
    "plt.xlim((-5, 30))\n",
    "\n",
    "bexp, uexp, gpexp = [V3[:,i] for i in range(3)]"
   ]
  },
  {
   "cell_type": "code",
   "execution_count": 21,
   "metadata": {},
   "outputs": [],
   "source": [
    "gp0 = V0[2] / V0[0]"
   ]
  },
  {
   "cell_type": "code",
   "execution_count": 22,
   "metadata": {},
   "outputs": [],
   "source": [
    "nGrid = 51   # Number of grid points\n",
    "b0Vec = np.linspace(.05, 2, nGrid) #cm\n",
    "u0Vec = np.linspace(5, 30, nGrid) #cm/s\n",
    "Q0Vec = u0Vec * b0Vec**2 #cm3/s\n",
    "M0Vec = Q0Vec * u0Vec #cm4/s2\n",
    "\n",
    "theta0 = np.pi / 2\n",
    "\n",
    "objFn, initialConds = [], []\n",
    "\n",
    "sequence = [Q0Vec, M0Vec]\n",
    "\n",
    "for (Q0, M0) in list(product(*sequence)):\n",
    "    F0 = Q0 * gp0\n",
    "    V0 = [Q0, M0, F0, theta0]\n",
    "    \n",
    "    # Call the 'integrator' function (defined above) to solve\n",
    "    # the model\n",
    "\n",
    "    dexp = np.array([gpexp]).ravel(order='C')\n",
    "    sig_dexp = np.array([])\n",
    "    \n",
    "    sig_V= np.array([ecart_type*np.ones(len(dexp))]).ravel(order='C')\n",
    "    \n",
    "    objFn.append(objectiveFn2(V0, derivs , p, sexp, dexp, sig_dexp=None, mode='lsq'))\n",
    "    initialConds.append(V0)\n",
    "\n",
    "# Transform initialConds and objFn from lists to arrays, \n",
    "# reshaping the latter \n",
    "initialConds = np.array(initialConds)\n",
    "objFn = np.array(objFn).reshape((nGrid, nGrid))"
   ]
  },
  {
   "cell_type": "code",
   "execution_count": 23,
   "metadata": {},
   "outputs": [],
   "source": [
    "s, V = integrator(derivs, V0, p, sexp)\n",
    "\n",
    "Q, M, F, theta = [V[:,i] for i in range(4)]\n",
    "b, u, gp = Q / np.sqrt(M), M / Q, F / Q\n",
    "d = np.array([gp]).ravel(order='C')\n",
    "    # Some conditions mean that the plume doesn't reach the same altitude as the experimental plume, so cut\n",
    "    # the experimental observable vector to be the same length as the model, or vice versa.\n",
    "if len(d) < len(dexp):\n",
    "        dexp = dexp[:len(d)]\n",
    "else:\n",
    "        d = d[:len(dexp)]\n",
    "res = dexp - d\n",
    "res = res[:-1]\n",
    "\n",
    "kernel = .5 * res.dot(res)"
   ]
  },
  {
   "cell_type": "markdown",
   "metadata": {},
   "source": [
    "### Optimisation by fmin"
   ]
  },
  {
   "cell_type": "code",
   "execution_count": 24,
   "metadata": {},
   "outputs": [
    {
     "name": "stdout",
     "output_type": "stream",
     "text": [
      "Optimization terminated successfully.\n",
      "         Current function value: -1.000000\n",
      "         Iterations: 116\n",
      "         Function evaluations: 228\n"
     ]
    },
    {
     "name": "stderr",
     "output_type": "stream",
     "text": [
      "/run/user/1000/gvfs/smb-share:server=docobs,share=donnees/Thermographie/MCG/Python Scripts/fumarolePlumeModel/fumarolePlumeModel.py:196: RuntimeWarning: invalid value encountered in sqrt\n",
      "  b, u, gp = Q / np.sqrt(M), M / Q, F / Q\n",
      "/run/user/1000/gvfs/smb-share:server=docobs,share=donnees/Thermographie/MCG/Python Scripts/fumarolePlumeModel/fumarolePlumeModel.py:353: RuntimeWarning: invalid value encountered in sqrt\n",
      "  b, u, gp = Q / np.sqrt(M), M / Q, F / Q\n"
     ]
    }
   ],
   "source": [
    "Vopt, fopt, Niter, NFCalls, warnFlags, Viter = fmin(objectiveFn2, V0, (derivs,p,sexp, dexp, None,'lsq' ), retall = True, full_output=True)"
   ]
  },
  {
   "cell_type": "code",
   "execution_count": 25,
   "metadata": {
    "scrolled": false
   },
   "outputs": [
    {
     "name": "stderr",
     "output_type": "stream",
     "text": [
      "/home/ovsg/anaconda3/lib/python3.6/site-packages/ipykernel_launcher.py:17: RuntimeWarning: invalid value encountered in sqrt\n"
     ]
    },
    {
     "data": {
      "image/png": "[encoded data removed]",
      "text/plain": [
       "<Figure size 144x216 with 1 Axes>"
      ]
     },
     "metadata": {},
     "output_type": "display_data"
    }
   ],
   "source": [
    "fig = plt.figure(figsize=(2,3))\n",
    "\n",
    "plt.pcolor(b0Vec, u0Vec,(-objFn))\n",
    "\n",
    "### Optimal values\n",
    "ui, bi = np.where(objFn == objFn.min())\n",
    "bOpt = b0Vec[bi[0]]\n",
    "uOpt = u0Vec[ui[0]]\n",
    "\n",
    "plt.plot(bOpt, uOpt, 'r.', ms=8, label='Values with max. prob.')\n",
    "plt.xlabel('b0')\n",
    "plt.ylabel('u0')\n",
    "\n",
    "#plt.colorbar()\n",
    "Q=Vopt[0]\n",
    "M=Vopt[1]\n",
    "b= Q / np.sqrt(M)\n",
    "u= M/ Q\n",
    "plt.plot(b, u, 'co')\n",
    "    \n",
    "plt.plot(b0theoretical, u0theoretical, 'w.', ms=8, label='Supposed values') \n",
    "plt.plot()\n",
    "plt.savefig('/home/ovsg/Documents/Stage_Domoison/Rapport/image/bi.png', dpi=300)"
   ]
  }
 ],
 "metadata": {
  "kernelspec": {
   "display_name": "Python 3 (ipykernel)",
   "language": "python",
   "name": "python3"
  },
  "language_info": {
   "codemirror_mode": {
    "name": "ipython",
    "version": 3
   },
   "file_extension": ".py",
   "mimetype": "text/x-python",
   "name": "python",
   "nbconvert_exporter": "python",
   "pygments_lexer": "ipython3",
   "version": "3.10.4"
  }
 },
 "nbformat": 4,
 "nbformat_minor": 2
}
