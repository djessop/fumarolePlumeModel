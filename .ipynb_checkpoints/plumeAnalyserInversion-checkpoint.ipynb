{
 "cells": [
  {
   "cell_type": "code",
   "execution_count": 1,
   "metadata": {},
   "outputs": [],
   "source": [
    "from bentPlumeAnalyser import *\n",
    "from fumarolePlumeModel import *\n",
    "from scipy.io.matlab import loadmat\n",
    "from itertools import product\n",
    "\n",
    "import pandas\n",
    "import numpy as np\n",
    "import matplotlib.pyplot as plt\n",
    "import matplotlib as mpl\n",
    "import os, sys\n",
    "import json\n",
    "\n",
    "# Set numpy options, notably for the printing of floating point numbers\n",
    "np.set_printoptions(precision=6)\n",
    "\n",
    "# Set matplotlib options\n",
    "mpl.rcParams['figure.dpi'] = 300"
   ]
  },
  {
   "cell_type": "code",
   "execution_count": 2,
   "metadata": {},
   "outputs": [],
   "source": [
    "def integrator(V0, p):\n",
    "    # Initialise an integrator object\n",
    "    r = ode(derivs).set_integrator('lsoda', nsteps=1e6)\n",
    "    r.set_initial_value(V0, 0.)\n",
    "    r.set_f_params(p)\n",
    "    \n",
    "    # Define state vector and axial distance\n",
    "    V = []    # State vector\n",
    "    s = []    # Axial distance\n",
    "    V.append(V0)\n",
    "    s.append(sexp[0])\n",
    "    \n",
    "    # Define the individual variables - these will be calculated at run time\n",
    "    Q, M, F, theta = 0., 0., 0., 0.\n",
    "    Q = np.float64(Q0)\n",
    "    M = np.float64(M0)\n",
    "    F = np.float64(F0)\n",
    "    theta = np.float64(theta0)\n",
    "    \n",
    "    ####################################\n",
    "\n",
    "    # Integrate, whilst successful, until the domain size is reached\n",
    "    ind = 0\n",
    "    while r.successful() and r.t < t1 and M >= 0.:\n",
    "        dt = dsexp[ind]\n",
    "        r.integrate(r.t + dt)\n",
    "        V.append(r.y)\n",
    "        s.append(r.t)\n",
    "        Q, M, F, theta = r.y\n",
    "        ind += 1\n",
    "    s = np.array(s)\n",
    "    V = np.float64(np.array(V))\n",
    "    return s, V"
   ]
  },
  {
   "cell_type": "code",
   "execution_count": 3,
   "metadata": {},
   "outputs": [],
   "source": [
    "exptNo      = 3\n",
    "plotResults = True\n",
    "\n",
    "# Read analysed experimental data from file\n",
    "fname    = './data/ExpPlumes_for_Dai/GCTA_plumeData.xlsx'\n",
    "# exptData = pandas.read_excel(fname, sheet_name='exp%02d' % exptNo)\n",
    "\n",
    "# # Display the first 5 lines of the data frame\n",
    "# exptData.head()"
   ]
  },
  {
   "cell_type": "code",
   "execution_count": 4,
   "metadata": {},
   "outputs": [],
   "source": [
    "## DEFINE THE DISTANCE ALONG THE AXIS, THE ANGLE AND THE WIDTH OF THE PLUME\n",
    "# sexp  = exptData.distAlongAxis\n",
    "# thexp = exptData.plumeAngle\n",
    "# bexp  = exptData.plumeWidth\n",
    "\n",
    "path = './data/ExpPlumes_for_Dai/exp%02d/' % exptNo\n",
    "\n",
    "skip = 10  # How many points to skip\n",
    "\n",
    "xexp = loadmat(path + 'xcenter.mat')['xcenter'][0]\n",
    "zexp = loadmat(path + 'zcenter.mat')['zcenter'][0]\n",
    "Ox, Oz = (xexp[0], zexp[0])\n",
    "pPixels = np.array([xexp, zexp]).T[::skip]\n",
    "\n",
    "data, xexp, zexp, extent = loadExptData(exptNo)\n",
    "if data.mean() < .5:\n",
    "    data = 1. - data\n",
    "p = np.array([xexp, zexp]).T[::skip]\n",
    "\n",
    "# # # Uncomment if user guesses are to be used for the plume trajectory\n",
    "# # with open(path + 'exp%02d_initGuess.json' % exptNo) as f:\n",
    "# #     exptData = json.load(f)\n",
    "# # p = np.array(exptData['data'])\n",
    "# pPixels = p.copy() * scaleFactor\n",
    "# pPixels[:,0] += Ox\n",
    "# pPixels[:,1] -= Oz\n",
    "# pPixels[:,1] *= -1\n",
    "\n",
    "# Calculate angle, width and distance along plume and errors\n",
    "thexp, sig_thexp = plumeAngle(p[:,0], p[:,1], errors=[1/scaleFactor]*2)\n",
    "_, bexp, sig_p, sig_bexp = trueLocationWidth(pPixels, data, errors=[1/scaleFactor])\n",
    "sexp      = distAlongPath(p[:,0], p[:,1])\n",
    "bexp     /= scaleFactor\n",
    "sig_bexp /= scaleFactor\n",
    "bexp[0]   = 0.55 / 2\n",
    "thexp[0]  = np.pi / 2"
   ]
  },
  {
   "cell_type": "code",
   "execution_count": 5,
   "metadata": {},
   "outputs": [],
   "source": [
    "# Import table of experimental conditions\n",
    "GCTA = pandas.read_excel('./data/ExpPlumes_for_Dai/TableA1.xlsx', sheet_name='CGSdata', skiprows=2, \n",
    "                         names=('exptNo', 'rhoa0', 'sig_rhoa0', 'N', 'sig_N', 'rho0', 'sig_rho0', 'U0', 'sig_U0', 'W', 'sig_W', \n",
    "                                'gp', 'sig_gp', 'Q0','sig_Q0', 'M0', 'sig_M0', 'F0', 'sig_F0', 'Ri_0', 'sig_Ri_o', 'W*','sig_W*'))\n",
    "\n",
    "# Extract densities of ambient and plume, and calculate g' at the source\n",
    "expt  = GCTA[GCTA['exptNo'] == 3]\n",
    "rhoa0 = expt['rhoa0']\n",
    "rho0  = expt['rho0']\n",
    "g = 981 #cm/s²\n",
    "gp0   = (rhoa0 - rho0) / rhoa0 * g\n",
    "\n",
    "parameters = pandas.read_excel('./data/ExpPlumes_for_Dai/TableA1.xlsx', sheet_name='CGSparameters')\n",
    "b0theoretical = parameters[parameters['property'] == 'nozzleSize']['value'].values[0]\n",
    "u0theoretical = expt['U0'].values[0]"
   ]
  },
  {
   "cell_type": "code",
   "execution_count": 6,
   "metadata": {},
   "outputs": [],
   "source": [
    "# Load initial conditions for a given experiment, run the model for those conditions \n",
    "# and then compare model and experimental data\n",
    "# fig, ax = plt.subplots()\n",
    "# ax.plot(exptData.plumeWidth, exptData.distAlongAxis, 'g.', label='natural')\n",
    "V0, p = loadICsParameters(pathname, exptNo, alpha=0.05, beta=0, m=2)\n",
    "\n",
    "#p = (0.05, .5, .012, 2., 4.)\n",
    "nGrid = 51   # Number of grid points\n",
    "b0Vec = np.linspace(.05, 2, nGrid) #cm\n",
    "u0Vec = np.linspace(5, 30, nGrid) #cm/s\n",
    "Q0Vec = u0Vec * b0Vec**2 #cm3/s\n",
    "M0Vec = Q0Vec * u0Vec #cm4/s2\n",
    "\n",
    "theta0 = np.pi / 2\n",
    "\n",
    "objFn, initialConds = [], []\n",
    "# Set integration domain and step size\n",
    "t1    = sexp.max()    # Domain of integration\n",
    "dsexp = np.diff(sexp) # Discretise the distance along plume axis - use as integration steps \n",
    "\n",
    "sequence = [Q0Vec, M0Vec]\n",
    "\n",
    "for (Q0, M0) in list(product(*sequence)):\n",
    "    F0 = Q0 * gp0\n",
    "    V0 = [Q0, M0, F0, theta0]\n",
    "    \n",
    "    # Call the 'integrator' function (defined above) to solve\n",
    "    # the model\n",
    "    s, V = integrator(V0, p)\n",
    "    Q, M, F, theta = [V[:,i] for i in range(4)]\n",
    "    \n",
    "    #######################################\n",
    "    \n",
    "    b  = Q / np.sqrt(M) / np.sqrt(2) # Factor of sqrt{2} to correspond with top-hat model\n",
    "    u  = M / Q\n",
    "    gp = F / Q\n",
    "    \n",
    "    Vexp = np.array([thexp]).ravel(order='C')\n",
    "    Vsyn = np.array([theta]).ravel(order='C')\n",
    "    sigV = np.array([sig_thexp]).ravel(order='C')\n",
    "    CovV = np.diag(sigV**2)\n",
    "\n",
    "    objFn.append(objectiveFn(Vexp, Vsyn, cov=CovV, p=p))\n",
    "    initialConds.append(V0)\n",
    "#     ax.plot(b, s, '-', label='Model %.4f %.4f %.4f' % (Q0, M0, F0))\n",
    "    \n",
    "#ax.legend(loc=5)\n",
    "# ax.set_xlim((0, 25))\n",
    "\n",
    "# Transform initialConds and objFn from lists to arrays, \n",
    "# reshaping the latter \n",
    "initialConds = np.array(initialConds)\n",
    "objFn = np.array(objFn).reshape((nGrid, nGrid))"
   ]
  },
  {
   "cell_type": "markdown",
   "metadata": {},
   "source": [
    "### Plot the optimal model solution and the objective function for the parameter space that we have calculated"
   ]
  },
  {
   "cell_type": "code",
   "execution_count": 7,
   "metadata": {
    "scrolled": true
   },
   "outputs": [
    {
     "name": "stderr",
     "output_type": "stream",
     "text": [
      "/home/david/.local/lib/python3.5/site-packages/ipykernel_launcher.py:31: RuntimeWarning: divide by zero encountered in log10\n"
     ]
    },
    {
     "data": {
      "image/png": "[encoded data removed]",
      "text/plain": [
       "<Figure size 576x288 with 3 Axes>"
      ]
     },
     "metadata": {
      "needs_background": "light"
     },
     "output_type": "display_data"
    }
   ],
   "source": [
    "fig, ax = plt.subplots(1, 2, figsize=(8,4))\n",
    "\n",
    "### Plot the model solution over the experimental image and data\n",
    "# Model solution trajectory\n",
    "xmod, zmod = [0.], [0.]\n",
    "ds_ = np.diff(sexp)\n",
    "for (ds, th) in zip(ds_, theta):\n",
    "    xmod.append(xmod[-1] + ds * np.cos(th))\n",
    "    zmod.append(zmod[-1] + ds * np.sin(th))\n",
    "    \n",
    "# On an image of the experimental plume, show the plume trajectories for\n",
    "# 1) GCTA, 2) our initial guess, 3) the model solution\n",
    "ax[0].imshow(data, extent=extent, cmap=plt.cm.gray)\n",
    "ax[0].invert_yaxis()\n",
    "ax[0].set_xlabel(r'$x$/[cm]')\n",
    "ax[0].set_ylabel(r'$z$/[cm]')\n",
    "# 1) GCTA\n",
    "ax[0].plot(xexp, zexp, 'r-', label='Plume axis', lw=2)\n",
    "# 2) our initial guess\n",
    "# ax[0].plot(exptData.axisLocn_x, exptData.axisLocn_y, 'r--', label='Init. guess', lw=2)\n",
    "# 3) the model solution\n",
    "ax[0].plot(xmod, zmod, 'g--', label='model', lw=2)\n",
    "ax[0].set_xlim((extent[:2]))\n",
    "ax[0].legend(loc=2)\n",
    "\n",
    "### Plot optimal values\n",
    "ui, bi = np.where(objFn == objFn.max())\n",
    "bOpt = b0Vec[bi[0]]\n",
    "uOpt = u0Vec[ui[0]]\n",
    "\n",
    "im = ax[1].pcolor(b0Vec, u0Vec, np.log10(objFn / objFn.sum()))\n",
    "hX = ax[1].set_xlabel(r'$b_0$')\n",
    "hY = ax[1].set_ylabel(r'$u_0$')\n",
    "hL = ax[1].set_title(r'$b^*_0$ = %.3f cm, $u^*_0$ = %.2f cm/s' % \n",
    "                     (bOpt, uOpt))\n",
    "\n",
    "ax[1].plot(bOpt, uOpt, 'r.', ms=8, label='Values with max. prob.')\n",
    "ax[1].plot(b0theoretical, u0theoretical, 'k.', ms=8, label='Supposed values')\n",
    "\n",
    "cbar = fig.colorbar(im)\n",
    "cbar.set_label(r'$\\log_{10}{\\Theta(d,m)}$')\n",
    "\n",
    "ax[1].legend(loc=4)\n",
    "fig.savefig('ProbabilityDistribution_b0u0.png', dpi=300)"
   ]
  },
  {
   "cell_type": "markdown",
   "metadata": {},
   "source": [
    "(*Left*) Visualisation (logarithmic scale) of the probability density of the parameter space.  (*Right*) Image of experimental plume with calculated and estimated trajectories.  #(*Right*) Difference between experimental (guessed) and model solutions as a function of the distance along the plume axis.  "
   ]
  },
  {
   "cell_type": "markdown",
   "metadata": {},
   "source": [
    "# To do:\n",
    "- Identify which cases produce minima in the objective function"
   ]
  },
  {
   "cell_type": "code",
   "execution_count": 8,
   "metadata": {},
   "outputs": [
    {
     "name": "stdout",
     "output_type": "stream",
     "text": [
      "[NbConvertApp] Converting notebook plumeAnalyser.ipynb to latex\n",
      "[NbConvertApp] Support files will be in plumeAnalyser_files/\n",
      "[NbConvertApp] Making directory plumeAnalyser_files\n",
      "[NbConvertApp] Writing 37194 bytes to plumeAnalyser.tex\n"
     ]
    }
   ],
   "source": [
    "# Uncomment the following line to transform this notebook into a latex file\n",
    "!jupyter nbconvert --to latex plumeAnalyser.ipynb"
   ]
  },
  {
   "cell_type": "code",
   "execution_count": 9,
   "metadata": {},
   "outputs": [],
   "source": [
    "# Now run pdflatex plumeAnalyser from the command line"
   ]
  },
  {
   "cell_type": "code",
   "execution_count": 11,
   "metadata": {},
   "outputs": [
    {
     "data": {
      "text/plain": [
       "(143, 143)"
      ]
     },
     "execution_count": 11,
     "metadata": {},
     "output_type": "execute_result"
    }
   ],
   "source": [
    "CovV.shape"
   ]
  },
  {
   "cell_type": "code",
   "execution_count": null,
   "metadata": {},
   "outputs": [],
   "source": []
  }
 ],
 "metadata": {
  "kernelspec": {
   "display_name": "Python 3",
   "language": "python",
   "name": "python3"
  },
  "language_info": {
   "codemirror_mode": {
    "name": "ipython",
    "version": 3
   },
   "file_extension": ".py",
   "mimetype": "text/x-python",
   "name": "python",
   "nbconvert_exporter": "python",
   "pygments_lexer": "ipython3",
   "version": "3.5.2"
  }
 },
 "nbformat": 4,
 "nbformat_minor": 2
}
