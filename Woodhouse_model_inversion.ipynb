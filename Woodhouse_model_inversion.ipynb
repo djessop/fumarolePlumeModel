{
 "cells": [
  {
   "cell_type": "code",
   "execution_count": 1,
   "id": "d9f1dae3-fb79-480e-925e-b64ec533fffc",
   "metadata": {},
   "outputs": [],
   "source": [
    "from model_synthdata_inversion import *\n",
    "from itertools import product\n",
    "from myiapws import iapws1992, iapws1995\n",
    "from scipy.integrate import solve_ivp\n",
    "from scipy.optimize import fmin, minimize\n",
    "from matplotlib.colors import LogNorm\n",
    "from joblib import Parallel, delayed\n",
    "\n",
    "import numpy as np\n",
    "import matplotlib.pyplot as plt\n",
    "import time\n",
    "import warnings\n",
    "\n",
    "cm = 1 / 2.54"
   ]
  },
  {
   "cell_type": "markdown",
   "id": "27418cba-0bb6-43c9-a0f2-178f0386c045",
   "metadata": {},
   "source": [
    "## True conditions"
   ]
  },
  {
   "cell_type": "code",
   "execution_count": 2,
   "id": "121abf2e-29f7-41e7-80b3-4d45a1fc04d4",
   "metadata": {},
   "outputs": [
    {
     "name": "stderr",
     "output_type": "stream",
     "text": [
      "/home/david/Modelling/fumarolePlumeModel/model_synthdata_inversion.py:40: RuntimeWarning: invalid value encountered in sqrt\n",
      "  dQ  = 2 * rhoa * Ue * Q / (np.sqrt(rho * M))\n",
      "/home/david/Modelling/fumarolePlumeModel/model_synthdata_inversion.py:43: RuntimeWarning: invalid value encountered in sqrt\n",
      "  + 2 * rhoa * Q / (np.sqrt(rho * M)) * Ue * W * np.cos(th)\n",
      "/home/david/Modelling/fumarolePlumeModel/model_synthdata_inversion.py:47: RuntimeWarning: invalid value encountered in sqrt\n",
      "  - 2 * rhoa * np.sqrt(M / rho) * Ue * W * np.cos(th)\n",
      "/home/david/Modelling/fumarolePlumeModel/model_synthdata_inversion.py:50: RuntimeWarning: invalid value encountered in sqrt\n",
      "  - 2 * rhoa * Q / (M * np.sqrt(rho * M)) * Ue * W * np.sin(Q)\n"
     ]
    },
    {
     "name": "stdout",
     "output_type": "stream",
     "text": [
      "-1178.173889632098\n"
     ]
    },
    {
     "data": {
      "image/png": "[encoded data removed]",
      "text/plain": [
       "<Figure size 283.465x283.465 with 1 Axes>"
      ]
     },
     "metadata": {
      "needs_background": "light"
     },
     "output_type": "display_data"
    }
   ],
   "source": [
    "rho0 = 0.5   # careful, density will vary with temperature!\n",
    "Cp0  = 1885  # careful, Cp0 will vary with temperatur!e\n",
    "Rp0  = 462   # careful, Rp0 will vary with temperatur!e\n",
    "Pa0  = 86000 # Atmospheric pressure at altitude of la Soufrière\n",
    "theta0 = np.pi/2\n",
    "n0   = 0.05  # Fumarole plumes are always 95% vapour?\n",
    "Ta0  = 291   # Tair 2-year average at Sanner\n",
    "npts = 501\n",
    "s    = np.linspace(0, 250, npts)\n",
    "Tt   = iapws1995.Tt\n",
    "\n",
    "# variables\n",
    "N  = 21\n",
    "R0 = np.linspace(0.1, 1, N)  \n",
    "T0 = np.linspace(80 + Tt, 160 + Tt, N)\n",
    "u0 = np.linspace(0.1, 100, N)\n",
    "\n",
    "rho0true = .5\n",
    "R0true = .5\n",
    "T0true = Tt + 96\n",
    "u0true = 10\n",
    "Q0true = rho0true * u0true * R0true**2 * np.pi\n",
    "M0true = Q0true * u0true\n",
    "E0true = Q0true * Cp0 * T0true\n",
    "V0true = [Q0true, M0true, E0true, theta0, Pa0, n0]\n",
    "\n",
    "sol_true = solve_ivp(derivs, [s[0], s[-1]], V0true, t_eval=s)\n",
    "\n",
    "# Produce \"true\" data values\n",
    "sol  = sol_true\n",
    "rho  = density_fume(sol.t, sol.y)\n",
    "T    = temperature_fume(sol.t, sol.y) - Tt\n",
    "Cp   = heat_capacity(sol.t, sol.y)\n",
    "b    = sol.y[0] / np.sqrt(rho * sol.y[1])\n",
    "u    = sol.y[1] / sol.y[0]\n",
    "theta = sol.y[3]\n",
    "\n",
    "cutoff = b.argmax()\n",
    "s = s[:cutoff]\n",
    "b = b[:cutoff]\n",
    "u = u[:cutoff]\n",
    "T = T[:cutoff]\n",
    "theta = theta[:cutoff]\n",
    "\n",
    "sigtheta, sigb, sigT = np.pi / 20, .5, .5  # rad, m and K\n",
    "Cd_inv = np.diag(np.array([1 / sigtheta**2 * np.ones_like(theta),\n",
    "                           1 / sigb**2 * np.ones_like(b),\n",
    "                           1 / sigT**2 * np.ones_like(T)]).ravel())\n",
    "\n",
    "solp = np.array([theta, b, T])\n",
    "noise = np.random.randn(*solp.shape)  # Gaussian noise, _N_(0,1)\n",
    "sol_noise = (solp.T + noise.T * (sigtheta, sigb, sigT)).T\n",
    "d    = sol_noise.flatten()  # array of data\n",
    "Gm   = produce_Gm(sol, s, cutoff)\n",
    "Gm_d = Gm - d\n",
    "\n",
    "fig0, ax0 = plt.subplots(figsize=(10*cm, 10*cm))\n",
    "ax0.plot(solp.T, s, '-')\n",
    "ax0.set_xlabel('Plume parameters')\n",
    "ax0.set_ylabel(r'Distance along plume axis, $s$')\n",
    "ax0.legend((r'$\\theta$', r'$b$', r'$T$'))\n",
    "\n",
    "plt.gca().set_prop_cycle(None)  # reset colour cycle\n",
    "ax0.plot(sol_noise.T, s, '.')\n",
    "\n",
    "fig0.tight_layout()\n",
    "\n",
    "E = objective_fn(Gm, d, np.diag(Cd_inv), mode='abs')\n",
    "print(E)"
   ]
  },
  {
   "cell_type": "code",
   "execution_count": 3,
   "id": "fd4fee8c-2436-4093-b422-7936e9f0357d",
   "metadata": {},
   "outputs": [
    {
     "name": "stdout",
     "output_type": "stream",
     "text": [
      "Job ran in 92.791 s\n"
     ]
    }
   ],
   "source": [
    "def parallel_job(u0, R0, T0):\n",
    "    warnings.filterwarnings('ignore')\n",
    "    V0   = [1, 1, Cp0 * T0, 1, 1, .05]  # required for routines\n",
    "    rho0 = density_fume(0, V0)\n",
    "    Q0   = rho0 * np.pi * R0**2 * u0\n",
    "    M0   = Q0 * u0\n",
    "    E0   = Q0 * Cp0 * T0\n",
    "    V0   = [Q0, M0, E0, np.pi/2, Pa0, .05]\n",
    "\n",
    "    sol  = solve_ivp(derivs, [s[0], s[-1]], V0, t_eval=s)\n",
    "    \n",
    "    Gm   = produce_Gm(sol, s, cutoff)\n",
    "\n",
    "    return objective_fn(Gm, d, Cd_inv, mode='lstsq'), V0\n",
    "\n",
    "\n",
    "njobs = 16\n",
    "ngrid = 21\n",
    "u0 = u0true  # np.linspace(.1, 100, ngrid)\n",
    "R0 = np.linspace(.1, 10,  ngrid)\n",
    "T0 = np.linspace(60, 150, ngrid) + Tt\n",
    "\n",
    "sequence = [u0, R0, T0]\n",
    "\n",
    "t = time.time()\n",
    "sequence = [R0, T0]\n",
    "objFn, initialConds = [], []\n",
    "\n",
    "results = Parallel(n_jobs=njobs)(delayed(parallel_job)(u0, R0, T0) \n",
    "                                 for (R0, T0) in list(product(*sequence)))\n",
    "# for (u0_, R0_, T0_) in list(product(*sequence)):\n",
    "#     print(u0_, R0_, T0_)\n",
    "#     results = parallel_job(u0_, R0_, T0_)\n",
    "#     objFn.append(results[0])\n",
    "#     initialConds.append(results[1])\n",
    "\n",
    "print(\"Job ran in %.3f s\" % (time.time() - t))\n",
    "\n",
    "objFn, initialConds = [], []\n",
    "\n",
    "for result in results:\n",
    "    objFn.append(result[0])\n",
    "    initialConds.append(result[1])\n",
    "\n",
    "initialConds = np.array(initialConds)\n",
    "objFn = np.array(objFn).reshape((-1, ngrid))"
   ]
  },
  {
   "cell_type": "code",
   "execution_count": 4,
   "id": "80aa79be-1af0-45ea-b83f-b1ecf8cb1b82",
   "metadata": {},
   "outputs": [],
   "source": [
    "objFn = np.array(objFn).reshape((-1, ngrid))"
   ]
  },
  {
   "cell_type": "code",
   "execution_count": 5,
   "id": "cc3549eb-1e73-4412-867e-06e9d7fb67b7",
   "metadata": {},
   "outputs": [
    {
     "ename": "SyntaxError",
     "evalue": "closing parenthesis ']' does not match opening parenthesis '(' (2132159635.py, line 4)",
     "output_type": "error",
     "traceback": [
      "\u001b[0;36m  Cell \u001b[0;32mIn[5], line 4\u001b[0;36m\u001b[0m\n\u001b[0;31m    ax.pcolor(R0, T0, -objFn :], norm=LogNorm)\u001b[0m\n\u001b[0m                              ^\u001b[0m\n\u001b[0;31mSyntaxError\u001b[0m\u001b[0;31m:\u001b[0m closing parenthesis ']' does not match opening parenthesis '('\n"
     ]
    }
   ],
   "source": [
    "fig, ax = plt.subplots() #ncols=ngrid)\n",
    "\n",
    "# for ind, (ax, u0_) in enumerate(axes, u0):\n",
    "ax.pcolor(R0, T0, -objFn :], norm=LogNorm)\n",
    "# ax,set_title(f'$u_0 = {u0_}')"
   ]
  },
  {
   "cell_type": "code",
   "execution_count": null,
   "id": "046aa8d9-a24f-415d-976b-a4099456da3f",
   "metadata": {},
   "outputs": [],
   "source": []
  }
 ],
 "metadata": {
  "kernelspec": {
   "display_name": "Python 3 (ipykernel)",
   "language": "python",
   "name": "python3"
  },
  "language_info": {
   "codemirror_mode": {
    "name": "ipython",
    "version": 3
   },
   "file_extension": ".py",
   "mimetype": "text/x-python",
   "name": "python",
   "nbconvert_exporter": "python",
   "pygments_lexer": "ipython3",
   "version": "3.10.12"
  }
 },
 "nbformat": 4,
 "nbformat_minor": 5
}
