{
 "cells": [
  {
   "cell_type": "code",
   "execution_count": 113,
   "id": "d9f1dae3-fb79-480e-925e-b64ec533fffc",
   "metadata": {},
   "outputs": [],
   "source": [
    "from model_synthdata_inversion import *\n",
    "from itertools import product\n",
    "from myiapws import iapws1992, iapws1995\n",
    "from scipy.integrate import solve_ivp\n",
    "from scipy.optimize import fmin, minimize\n",
    "from joblib import Parallel, delayed\n",
    "\n",
    "import numpy as np\n",
    "import matplotlib.pyplot as plt\n",
    "import time\n",
    "import warnings\n",
    "\n",
    "cm = 1 / 2.54"
   ]
  },
  {
   "cell_type": "markdown",
   "id": "27418cba-0bb6-43c9-a0f2-178f0386c045",
   "metadata": {},
   "source": [
    "## True conditions"
   ]
  },
  {
   "cell_type": "code",
   "execution_count": 123,
   "id": "121abf2e-29f7-41e7-80b3-4d45a1fc04d4",
   "metadata": {},
   "outputs": [
    {
     "ename": "ValueError",
     "evalue": "could not broadcast input array from shape (3,501) into shape (3,489)",
     "output_type": "error",
     "traceback": [
      "\u001b[0;31m---------------------------------------------------------------------------\u001b[0m",
      "\u001b[0;31mValueError\u001b[0m                                Traceback (most recent call last)",
      "Cell \u001b[0;32mIn[123], line 54\u001b[0m\n\u001b[1;32m     52\u001b[0m sol_noise \u001b[38;5;241m=\u001b[39m (solp\u001b[38;5;241m.\u001b[39mT \u001b[38;5;241m+\u001b[39m noise\u001b[38;5;241m.\u001b[39mT \u001b[38;5;241m*\u001b[39m (sigtheta, sigb, sigT))\u001b[38;5;241m.\u001b[39mT\n\u001b[1;32m     53\u001b[0m d    \u001b[38;5;241m=\u001b[39m sol_noise\u001b[38;5;241m.\u001b[39mflatten()  \u001b[38;5;66;03m# array of data\u001b[39;00m\n\u001b[0;32m---> 54\u001b[0m Gm   \u001b[38;5;241m=\u001b[39m \u001b[43mproduce_Gm\u001b[49m\u001b[43m(\u001b[49m\u001b[43msol\u001b[49m\u001b[43m,\u001b[49m\u001b[43m \u001b[49m\u001b[43ms\u001b[49m\u001b[43m,\u001b[49m\u001b[43m \u001b[49m\u001b[43mcutoff\u001b[49m\u001b[43m)\u001b[49m\n\u001b[1;32m     55\u001b[0m Gm_d \u001b[38;5;241m=\u001b[39m Gm \u001b[38;5;241m-\u001b[39m d\n\u001b[1;32m     57\u001b[0m fig0, ax0 \u001b[38;5;241m=\u001b[39m plt\u001b[38;5;241m.\u001b[39msubplots(figsize\u001b[38;5;241m=\u001b[39m(\u001b[38;5;241m10\u001b[39m\u001b[38;5;241m*\u001b[39mcm, \u001b[38;5;241m10\u001b[39m\u001b[38;5;241m*\u001b[39mcm))\n",
      "File \u001b[0;32m~/Modelling/fumarolePlumeModel/model_synthdata_inversion.py:154\u001b[0m, in \u001b[0;36mproduce_Gm\u001b[0;34m(sol, s, cutoff)\u001b[0m\n\u001b[1;32m    151\u001b[0m solp[:, :L] \u001b[38;5;241m=\u001b[39m np\u001b[38;5;241m.\u001b[39marray([theta, b, T])\n\u001b[1;32m    153\u001b[0m \u001b[38;5;28;01mif\u001b[39;00m cutoff \u001b[38;5;129;01mis\u001b[39;00m \u001b[38;5;129;01mnot\u001b[39;00m \u001b[38;5;28;01mNone\u001b[39;00m:\n\u001b[0;32m--> 154\u001b[0m     solp \u001b[38;5;241m=\u001b[39m solp[:,:cutoff]\n\u001b[1;32m    155\u001b[0m \u001b[38;5;28;01mreturn\u001b[39;00m solp\u001b[38;5;241m.\u001b[39mflatten()\n",
      "\u001b[0;31mValueError\u001b[0m: could not broadcast input array from shape (3,501) into shape (3,489)"
     ]
    }
   ],
   "source": [
    "rho0 = 0.5   # careful, density will vary with temperature!\n",
    "Cp0  = 1885  # careful, Cp0 will vary with temperatur!e\n",
    "Rp0  = 462   # careful, Rp0 will vary with temperatur!e\n",
    "Pa0  = 86000 # Atmospheric pressure at altitude of la Soufrière\n",
    "theta0 = np.pi/2\n",
    "n0   = 0.05  # Fumarole plumes are always 95% vapour?\n",
    "Ta0  = 291   # Tair 2-year average at Sanner\n",
    "npts = 501\n",
    "s    = np.linspace(0, 250, npts)\n",
    "Tt   = iapws1995.Tt\n",
    "\n",
    "# variables\n",
    "N  = 21\n",
    "R0 = np.linspace(0.1, 1, N)  \n",
    "T0 = np.linspace(80 + Tt, 160 + Tt, N)\n",
    "u0 = np.linspace(0.1, 100, N)\n",
    "\n",
    "rho0true = .5\n",
    "R0true = .5\n",
    "T0true = Tt + 96\n",
    "u0true = 10\n",
    "Q0true = rho0true * u0true * R0true**2 * np.pi\n",
    "M0true = Q0true * u0true\n",
    "E0true = Q0true * Cp0 * T0true\n",
    "V0true = [Q0true, M0true, E0true, theta0, Pa0, n0]\n",
    "\n",
    "sol_true = solve_ivp(derivs, [s[0], s[-1]], V0true, t_eval=s)\n",
    "\n",
    "# Produce \"true\" data values\n",
    "sol  = sol_true\n",
    "rho  = density_fume(sol.t, sol.y)\n",
    "T    = temperature_fume(sol.t, sol.y) - Tt\n",
    "Cp   = heat_capacity(sol.t, sol.y)\n",
    "b    = sol.y[0] / np.sqrt(rho * sol.y[1])\n",
    "u    = sol.y[1] / sol.y[0]\n",
    "theta = sol.y[3]\n",
    "\n",
    "cutoff = b.argmax()\n",
    "s = s[:cutoff]\n",
    "b = b[:cutoff]\n",
    "u = u[:cutoff]\n",
    "T = T[:cutoff]\n",
    "theta = theta[:cutoff]\n",
    "\n",
    "sigtheta, sigb, sigT = np.pi / 20, .5, .5  # rad, m and K\n",
    "Cd_inv = np.diag(np.array([1 / sigtheta**2 * np.ones_like(theta),\n",
    "                           1 / sigb**2 * np.ones_like(b),\n",
    "                           1 / sigT**2 * np.ones_like(T)]).ravel())\n",
    "\n",
    "solp = np.array([theta, b, T])\n",
    "noise = np.random.randn(*solp.shape)  # Gaussian noise, _N_(0,1)\n",
    "sol_noise = (solp.T + noise.T * (sigtheta, sigb, sigT)).T\n",
    "d    = sol_noise.flatten()  # array of data\n",
    "Gm   = produce_Gm(sol, s, cutoff)\n",
    "Gm_d = Gm - d\n",
    "\n",
    "fig0, ax0 = plt.subplots(figsize=(10*cm, 10*cm))\n",
    "ax0.plot(solp.T, s, '-')\n",
    "ax0.set_xlabel('Plume parameters')\n",
    "ax0.set_ylabel(r'Distance along plume axis, $s$')\n",
    "ax0.legend((r'$\\theta$', r'$b$', r'$T$'))\n",
    "\n",
    "plt.gca().set_prop_cycle(None)  # reset colour cycle\n",
    "ax0.plot(sol_noise.T, s, '.')\n",
    "\n",
    "fig0.tight_layout()\n",
    "\n",
    "E = objective_fn(Gm, d, np.diag(Cd_inv), mode='abs')\n",
    "print(E)"
   ]
  },
  {
   "cell_type": "code",
   "execution_count": 121,
   "id": "9fe9a4d5-881c-45b4-9211-2b9458e8a1fb",
   "metadata": {},
   "outputs": [
    {
     "name": "stdout",
     "output_type": "stream",
     "text": [
      "501 489 489\n"
     ]
    }
   ],
   "source": [
    "# produce_Gm(sol, s, cutoff)\n",
    "print(len(sol.t), len(s), cutoff)\n"
   ]
  },
  {
   "cell_type": "code",
   "execution_count": 112,
   "id": "fd4fee8c-2436-4093-b422-7936e9f0357d",
   "metadata": {},
   "outputs": [
    {
     "name": "stdout",
     "output_type": "stream",
     "text": [
      "Reloading 'model_synthdata_inversion'.\n",
      "0.1 0.1 333.16\n"
     ]
    },
    {
     "ename": "TypeError",
     "evalue": "'NoneType' object cannot be interpreted as an integer",
     "output_type": "error",
     "traceback": [
      "\u001b[0;31m---------------------------------------------------------------------------\u001b[0m",
      "\u001b[0;31mTypeError\u001b[0m                                 Traceback (most recent call last)",
      "Cell \u001b[0;32mIn[112], line 33\u001b[0m\n\u001b[1;32m     31\u001b[0m \u001b[38;5;28;01mfor\u001b[39;00m (u0_, R0_, T0_) \u001b[38;5;129;01min\u001b[39;00m \u001b[38;5;28mlist\u001b[39m(product(\u001b[38;5;241m*\u001b[39msequence)):\n\u001b[1;32m     32\u001b[0m     \u001b[38;5;28mprint\u001b[39m(u0_, R0_, T0_)\n\u001b[0;32m---> 33\u001b[0m     results \u001b[38;5;241m=\u001b[39m \u001b[43mparallel_job\u001b[49m\u001b[43m(\u001b[49m\u001b[43mu0_\u001b[49m\u001b[43m,\u001b[49m\u001b[43m \u001b[49m\u001b[43mR0_\u001b[49m\u001b[43m,\u001b[49m\u001b[43m \u001b[49m\u001b[43mT0_\u001b[49m\u001b[43m)\u001b[49m\n\u001b[1;32m     34\u001b[0m     objFn\u001b[38;5;241m.\u001b[39mappend(results[\u001b[38;5;241m0\u001b[39m])\n\u001b[1;32m     35\u001b[0m     initialConds\u001b[38;5;241m.\u001b[39mappend(results[\u001b[38;5;241m1\u001b[39m])\n",
      "Cell \u001b[0;32mIn[112], line 12\u001b[0m, in \u001b[0;36mparallel_job\u001b[0;34m(u0, R0, T0)\u001b[0m\n\u001b[1;32m      8\u001b[0m V0   \u001b[38;5;241m=\u001b[39m [Q0, M0, E0, np\u001b[38;5;241m.\u001b[39mpi\u001b[38;5;241m/\u001b[39m\u001b[38;5;241m2\u001b[39m, Pa0, \u001b[38;5;241m.05\u001b[39m]\n\u001b[1;32m     10\u001b[0m sol  \u001b[38;5;241m=\u001b[39m solve_ivp(derivs, [s[\u001b[38;5;241m0\u001b[39m], s[\u001b[38;5;241m-\u001b[39m\u001b[38;5;241m1\u001b[39m]], V0, t_eval\u001b[38;5;241m=\u001b[39ms)\n\u001b[0;32m---> 12\u001b[0m Gm   \u001b[38;5;241m=\u001b[39m \u001b[43mproduce_Gm\u001b[49m\u001b[43m(\u001b[49m\u001b[43msol\u001b[49m\u001b[43m,\u001b[49m\u001b[43m \u001b[49m\u001b[43mcutoff\u001b[49m\u001b[43m)\u001b[49m\n\u001b[1;32m     14\u001b[0m \u001b[38;5;28;01mreturn\u001b[39;00m objective_fn(Gm, d, Cd_inv, mode\u001b[38;5;241m=\u001b[39m\u001b[38;5;124m'\u001b[39m\u001b[38;5;124mlstsq\u001b[39m\u001b[38;5;124m'\u001b[39m), V0\n",
      "File \u001b[0;32m~/Modelling/fumarolePlumeModel/model_synthdata_inversion.py:150\u001b[0m, in \u001b[0;36mproduce_Gm\u001b[0;34m(sol, s, cutoff)\u001b[0m\n\u001b[1;32m      0\u001b[0m <Error retrieving source code with stack_data see ipython/ipython#13598>\n",
      "File \u001b[0;32m~/.local/lib/python3.10/site-packages/numpy/core/numeric.py:191\u001b[0m, in \u001b[0;36mones\u001b[0;34m(shape, dtype, order, like)\u001b[0m\n\u001b[1;32m    188\u001b[0m \u001b[38;5;28;01mif\u001b[39;00m like \u001b[38;5;129;01mis\u001b[39;00m \u001b[38;5;129;01mnot\u001b[39;00m \u001b[38;5;28;01mNone\u001b[39;00m:\n\u001b[1;32m    189\u001b[0m     \u001b[38;5;28;01mreturn\u001b[39;00m _ones_with_like(like, shape, dtype\u001b[38;5;241m=\u001b[39mdtype, order\u001b[38;5;241m=\u001b[39morder)\n\u001b[0;32m--> 191\u001b[0m a \u001b[38;5;241m=\u001b[39m \u001b[43mempty\u001b[49m\u001b[43m(\u001b[49m\u001b[43mshape\u001b[49m\u001b[43m,\u001b[49m\u001b[43m \u001b[49m\u001b[43mdtype\u001b[49m\u001b[43m,\u001b[49m\u001b[43m \u001b[49m\u001b[43morder\u001b[49m\u001b[43m)\u001b[49m\n\u001b[1;32m    192\u001b[0m multiarray\u001b[38;5;241m.\u001b[39mcopyto(a, \u001b[38;5;241m1\u001b[39m, casting\u001b[38;5;241m=\u001b[39m\u001b[38;5;124m'\u001b[39m\u001b[38;5;124munsafe\u001b[39m\u001b[38;5;124m'\u001b[39m)\n\u001b[1;32m    193\u001b[0m \u001b[38;5;28;01mreturn\u001b[39;00m a\n",
      "\u001b[0;31mTypeError\u001b[0m: 'NoneType' object cannot be interpreted as an integer"
     ]
    }
   ],
   "source": [
    "def parallel_job(u0, R0, T0):\n",
    "    warnings.filterwarnings('ignore')\n",
    "    V0   = [1, 1, Cp0 * T0, 1, 1, .05]  # required for routines\n",
    "    rho0 = density_fume(0, V0)\n",
    "    Q0   = rho0 * np.pi * R0**2 * u0\n",
    "    M0   = Q0 * u0\n",
    "    E0   = Q0 * Cp0 * T0\n",
    "    V0   = [Q0, M0, E0, np.pi/2, Pa0, .05]\n",
    "\n",
    "    sol  = solve_ivp(derivs, [s[0], s[-1]], V0, t_eval=s)\n",
    "    \n",
    "    Gm   = produce_Gm(sol, cutoff)\n",
    "\n",
    "    return objective_fn(Gm, d, Cd_inv, mode='lstsq'), V0\n",
    "\n",
    "\n",
    "njobs = 16\n",
    "ngrid = 5\n",
    "u0 = np.linspace(.1, 100, ngrid)\n",
    "R0 = np.linspace(.1, 10,  ngrid)\n",
    "T0 = np.linspace(60, 150, ngrid) + Tt\n",
    "\n",
    "sequence = [u0, R0, T0]\n",
    "\n",
    "t = time.time()\n",
    "sequence = [u0, R0, T0]\n",
    "objFn, initialConds = [], []\n",
    "\n",
    "# results = Parallel(n_jobs=njobs)(delayed(parallel_job)(u0, R0, T0) \n",
    "#                                  for (u0,R0,T0) in list(product(*sequence)))\n",
    "for (u0_, R0_, T0_) in list(product(*sequence)):\n",
    "    print(u0_, R0_, T0_)\n",
    "    results = parallel_job(u0_, R0_, T0_)\n",
    "    objFn.append(results[0])\n",
    "    initialConds.append(results[1])\n",
    "\n",
    "print(\"Job ran in %.3f s\" % (time.time() - t))\n",
    "\n",
    "# objFn, initialConds = [], []\n",
    "\n",
    "# for result in results:\n",
    "#     objFn.append(result[0])\n",
    "#     initialConds.append(result[1])\n",
    "\n",
    "# initialConds = np.array(initialConds)\n",
    "# objFn = np.array(objFn).reshape((-1, nGrid))"
   ]
  },
  {
   "cell_type": "code",
   "execution_count": 110,
   "id": "1075caca-3ebf-4ca7-a7a6-0a66710bd93d",
   "metadata": {},
   "outputs": [
    {
     "name": "stdout",
     "output_type": "stream",
     "text": [
      "0.1 0.1 333.16\n",
      "[2.041056579024855e-08, 2.041056579024855e-09, 0.012817970026010305, 1.5707963267948966, 86000, 0.05]\n"
     ]
    },
    {
     "ename": "TypeError",
     "evalue": "'NoneType' object cannot be interpreted as an integer",
     "output_type": "error",
     "traceback": [
      "\u001b[0;31m---------------------------------------------------------------------------\u001b[0m",
      "\u001b[0;31mTypeError\u001b[0m                                 Traceback (most recent call last)",
      "Cell \u001b[0;32mIn[110], line 14\u001b[0m\n\u001b[1;32m     11\u001b[0m sol \u001b[38;5;241m=\u001b[39m solve_ivp(derivs, [s[\u001b[38;5;241m0\u001b[39m], s[\u001b[38;5;241m-\u001b[39m\u001b[38;5;241m1\u001b[39m]], V0, t_eval\u001b[38;5;241m=\u001b[39ms)\n\u001b[1;32m     12\u001b[0m \u001b[38;5;28mlen\u001b[39m(sol\u001b[38;5;241m.\u001b[39mt)\n\u001b[0;32m---> 14\u001b[0m Gm \u001b[38;5;241m=\u001b[39m \u001b[43mproduce_Gm\u001b[49m\u001b[43m(\u001b[49m\u001b[43msol\u001b[49m\u001b[43m,\u001b[49m\u001b[43m \u001b[49m\u001b[43ms\u001b[49m\u001b[43m)\u001b[49m\n\u001b[1;32m     15\u001b[0m solp \u001b[38;5;241m=\u001b[39m Gm\u001b[38;5;241m.\u001b[39mreshape(\u001b[38;5;241m3\u001b[39m, \u001b[38;5;241m-\u001b[39m\u001b[38;5;241m1\u001b[39m)\n\u001b[1;32m     16\u001b[0m plt\u001b[38;5;241m.\u001b[39mplot(solp\u001b[38;5;241m.\u001b[39mT, sol\u001b[38;5;241m.\u001b[39mt, \u001b[38;5;124m'\u001b[39m\u001b[38;5;124m-\u001b[39m\u001b[38;5;124m'\u001b[39m)\n",
      "File \u001b[0;32m~/Modelling/fumarolePlumeModel/model_synthdata_inversion.py:150\u001b[0m, in \u001b[0;36mproduce_Gm\u001b[0;34m(sol, s, cutoff)\u001b[0m\n\u001b[1;32m      0\u001b[0m <Error retrieving source code with stack_data see ipython/ipython#13598>\n",
      "File \u001b[0;32m~/.local/lib/python3.10/site-packages/numpy/core/numeric.py:191\u001b[0m, in \u001b[0;36mones\u001b[0;34m(shape, dtype, order, like)\u001b[0m\n\u001b[1;32m    188\u001b[0m \u001b[38;5;28;01mif\u001b[39;00m like \u001b[38;5;129;01mis\u001b[39;00m \u001b[38;5;129;01mnot\u001b[39;00m \u001b[38;5;28;01mNone\u001b[39;00m:\n\u001b[1;32m    189\u001b[0m     \u001b[38;5;28;01mreturn\u001b[39;00m _ones_with_like(like, shape, dtype\u001b[38;5;241m=\u001b[39mdtype, order\u001b[38;5;241m=\u001b[39morder)\n\u001b[0;32m--> 191\u001b[0m a \u001b[38;5;241m=\u001b[39m \u001b[43mempty\u001b[49m\u001b[43m(\u001b[49m\u001b[43mshape\u001b[49m\u001b[43m,\u001b[49m\u001b[43m \u001b[49m\u001b[43mdtype\u001b[49m\u001b[43m,\u001b[49m\u001b[43m \u001b[49m\u001b[43morder\u001b[49m\u001b[43m)\u001b[49m\n\u001b[1;32m    192\u001b[0m multiarray\u001b[38;5;241m.\u001b[39mcopyto(a, \u001b[38;5;241m1\u001b[39m, casting\u001b[38;5;241m=\u001b[39m\u001b[38;5;124m'\u001b[39m\u001b[38;5;124munsafe\u001b[39m\u001b[38;5;124m'\u001b[39m)\n\u001b[1;32m    193\u001b[0m \u001b[38;5;28;01mreturn\u001b[39;00m a\n",
      "\u001b[0;31mTypeError\u001b[0m: 'NoneType' object cannot be interpreted as an integer"
     ]
    }
   ],
   "source": [
    "print(u0_, R0_, T0_)\n",
    "V0   = [1, 1, Cp0 * T0_, 1, 1, .05]  # required for routines\n",
    "rho0 = density_fume(0, V0)\n",
    "Q0   = rho0 * np.pi * R0_**2 * u0_\n",
    "\n",
    "M0   = Q0 * u0_\n",
    "E0   = Q0 * Cp0 * T0_\n",
    "V0   = [Q0, M0, E0, np.pi/2, Pa0, .05]\n",
    "print(V0)\n",
    "\n",
    "sol = solve_ivp(derivs, [s[0], s[-1]], V0, t_eval=s)\n",
    "len(sol.t)\n",
    "\n",
    "Gm = produce_Gm(sol, s)\n",
    "solp = Gm.reshape(3, -1)\n",
    "plt.plot(solp.T, sol.t, '-')\n",
    "plt.legend((r'$\\theta$', r'$b$', r'$T$'))"
   ]
  },
  {
   "cell_type": "code",
   "execution_count": 104,
   "id": "50e51805-1847-41e7-8241-b46cf54c991e",
   "metadata": {},
   "outputs": [
    {
     "data": {
      "text/plain": [
       "(3, 489)"
      ]
     },
     "execution_count": 104,
     "metadata": {},
     "output_type": "execute_result"
    }
   ],
   "source": [
    "Gm = produce_Gm(sol)\n",
    "# solp[Gm.reshape(3, -1).shape] = solp.reshape(3, -1)\n",
    "\n",
    "# solp[-1:len(s), :] = -9999\n",
    "\n"
   ]
  },
  {
   "cell_type": "code",
   "execution_count": 81,
   "id": "23e2c4c9-8b64-4ac3-b1ab-8c1e3918837a",
   "metadata": {},
   "outputs": [],
   "source": []
  },
  {
   "cell_type": "code",
   "execution_count": null,
   "id": "cc3549eb-1e73-4412-867e-06e9d7fb67b7",
   "metadata": {},
   "outputs": [],
   "source": []
  }
 ],
 "metadata": {
  "kernelspec": {
   "display_name": "Python 3 (ipykernel)",
   "language": "python",
   "name": "python3"
  },
  "language_info": {
   "codemirror_mode": {
    "name": "ipython",
    "version": 3
   },
   "file_extension": ".py",
   "mimetype": "text/x-python",
   "name": "python",
   "nbconvert_exporter": "python",
   "pygments_lexer": "ipython3",
   "version": "3.10.12"
  }
 },
 "nbformat": 4,
 "nbformat_minor": 5
}
