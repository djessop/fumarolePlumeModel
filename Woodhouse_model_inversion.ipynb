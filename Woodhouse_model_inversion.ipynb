{
 "cells": [
  {
   "cell_type": "code",
   "execution_count": 1,
   "id": "d9f1dae3-fb79-480e-925e-b64ec533fffc",
   "metadata": {},
   "outputs": [],
   "source": [
    "from model_synthdata_inversion import (density_atm, density_fume, \n",
    "                                       temperature_fume, heat_capacity, \n",
    "                                       produce_Gm, objective_fn, derivs)\n",
    "from itertools import product\n",
    "from myiapws import iapws1992, iapws1995\n",
    "from scipy.integrate import solve_ivp\n",
    "from scipy.optimize import minimize\n",
    "from matplotlib.colors import LogNorm\n",
    "from joblib import Parallel, delayed\n",
    "\n",
    "import numpy as np\n",
    "import matplotlib.pyplot as plt\n",
    "import time\n",
    "import warnings\n",
    "\n",
    "cm = 1 / 2.54"
   ]
  },
  {
   "cell_type": "markdown",
   "id": "27418cba-0bb6-43c9-a0f2-178f0386c045",
   "metadata": {},
   "source": [
    "## True conditions"
   ]
  },
  {
   "cell_type": "code",
   "execution_count": 2,
   "id": "121abf2e-29f7-41e7-80b3-4d45a1fc04d4",
   "metadata": {},
   "outputs": [
    {
     "name": "stderr",
     "output_type": "stream",
     "text": [
      "/home/david/Modelling/fumarolePlumeModel/model_synthdata_inversion.py:40: RuntimeWarning: invalid value encountered in sqrt\n",
      "  dQ  = 2 * rhoa * Ue * Q / (np.sqrt(rho * M))\n",
      "/home/david/Modelling/fumarolePlumeModel/model_synthdata_inversion.py:43: RuntimeWarning: invalid value encountered in sqrt\n",
      "  + 2 * rhoa * Q / (np.sqrt(rho * M)) * Ue * W * np.cos(th)\n",
      "/home/david/Modelling/fumarolePlumeModel/model_synthdata_inversion.py:47: RuntimeWarning: invalid value encountered in sqrt\n",
      "  - 2 * rhoa * np.sqrt(M / rho) * Ue * W * np.cos(th)\n",
      "/home/david/Modelling/fumarolePlumeModel/model_synthdata_inversion.py:50: RuntimeWarning: invalid value encountered in sqrt\n",
      "  - 2 * rhoa * Q / (M * np.sqrt(rho * M)) * Ue * W * np.sin(Q)\n"
     ]
    },
    {
     "name": "stdout",
     "output_type": "stream",
     "text": [
      "1.0\n"
     ]
    },
    {
     "ename": "ValueError",
     "evalue": "operands could not be broadcast together with shapes (6,) (1467,) ",
     "output_type": "error",
     "traceback": [
      "\u001b[0;31m---------------------------------------------------------------------------\u001b[0m",
      "\u001b[0;31mValueError\u001b[0m                                Traceback (most recent call last)",
      "Cell \u001b[0;32mIn[2], line 76\u001b[0m\n\u001b[1;32m     73\u001b[0m E \u001b[38;5;241m=\u001b[39m objective_fn(Gm, d, np\u001b[38;5;241m.\u001b[39mdiag(Cd_inv), mode\u001b[38;5;241m=\u001b[39m\u001b[38;5;124m'\u001b[39m\u001b[38;5;124mabs\u001b[39m\u001b[38;5;124m'\u001b[39m)\n\u001b[1;32m     74\u001b[0m \u001b[38;5;28mprint\u001b[39m(E)\n\u001b[0;32m---> 76\u001b[0m opt_V0 \u001b[38;5;241m=\u001b[39m \u001b[43mminimize\u001b[49m\u001b[43m(\u001b[49m\u001b[43mobjective_fn\u001b[49m\u001b[43m,\u001b[49m\u001b[43m \u001b[49m\u001b[43mx0\u001b[49m\u001b[38;5;241;43m=\u001b[39;49m\u001b[43mV0true\u001b[49m\u001b[43m,\u001b[49m\u001b[43m \u001b[49m\u001b[43mmethod\u001b[49m\u001b[38;5;241;43m=\u001b[39;49m\u001b[38;5;124;43m'\u001b[39;49m\u001b[38;5;124;43mNelder-Mead\u001b[39;49m\u001b[38;5;124;43m'\u001b[39;49m\u001b[43m,\u001b[49m\u001b[43m \u001b[49m\u001b[43margs\u001b[49m\u001b[38;5;241;43m=\u001b[39;49m\u001b[43m(\u001b[49m\u001b[43md\u001b[49m\u001b[43m,\u001b[49m\u001b[43m \u001b[49m\u001b[43mnp\u001b[49m\u001b[38;5;241;43m.\u001b[39;49m\u001b[43mdiag\u001b[49m\u001b[43m(\u001b[49m\u001b[43mCd_inv\u001b[49m\u001b[43m)\u001b[49m\u001b[43m,\u001b[49m\u001b[43m \u001b[49m\u001b[38;5;124;43m'\u001b[39;49m\u001b[38;5;124;43mabs\u001b[39;49m\u001b[38;5;124;43m'\u001b[39;49m\u001b[43m)\u001b[49m\u001b[43m,\u001b[49m\u001b[43m \u001b[49m\u001b[43m)\u001b[49m\n",
      "File \u001b[0;32m~/.local/lib/python3.10/site-packages/scipy/optimize/_minimize.py:719\u001b[0m, in \u001b[0;36mminimize\u001b[0;34m(fun, x0, args, method, jac, hess, hessp, bounds, constraints, tol, callback, options)\u001b[0m\n\u001b[1;32m    716\u001b[0m callback \u001b[38;5;241m=\u001b[39m _wrap_callback(callback, meth)\n\u001b[1;32m    718\u001b[0m \u001b[38;5;28;01mif\u001b[39;00m meth \u001b[38;5;241m==\u001b[39m \u001b[38;5;124m'\u001b[39m\u001b[38;5;124mnelder-mead\u001b[39m\u001b[38;5;124m'\u001b[39m:\n\u001b[0;32m--> 719\u001b[0m     res \u001b[38;5;241m=\u001b[39m \u001b[43m_minimize_neldermead\u001b[49m\u001b[43m(\u001b[49m\u001b[43mfun\u001b[49m\u001b[43m,\u001b[49m\u001b[43m \u001b[49m\u001b[43mx0\u001b[49m\u001b[43m,\u001b[49m\u001b[43m \u001b[49m\u001b[43margs\u001b[49m\u001b[43m,\u001b[49m\u001b[43m \u001b[49m\u001b[43mcallback\u001b[49m\u001b[43m,\u001b[49m\u001b[43m \u001b[49m\u001b[43mbounds\u001b[49m\u001b[38;5;241;43m=\u001b[39;49m\u001b[43mbounds\u001b[49m\u001b[43m,\u001b[49m\n\u001b[1;32m    720\u001b[0m \u001b[43m                               \u001b[49m\u001b[38;5;241;43m*\u001b[39;49m\u001b[38;5;241;43m*\u001b[39;49m\u001b[43moptions\u001b[49m\u001b[43m)\u001b[49m\n\u001b[1;32m    721\u001b[0m \u001b[38;5;28;01melif\u001b[39;00m meth \u001b[38;5;241m==\u001b[39m \u001b[38;5;124m'\u001b[39m\u001b[38;5;124mpowell\u001b[39m\u001b[38;5;124m'\u001b[39m:\n\u001b[1;32m    722\u001b[0m     res \u001b[38;5;241m=\u001b[39m _minimize_powell(fun, x0, args, callback, bounds, \u001b[38;5;241m*\u001b[39m\u001b[38;5;241m*\u001b[39moptions)\n",
      "File \u001b[0;32m~/.local/lib/python3.10/site-packages/scipy/optimize/_optimize.py:817\u001b[0m, in \u001b[0;36m_minimize_neldermead\u001b[0;34m(func, x0, args, callback, maxiter, maxfev, disp, return_all, initial_simplex, xatol, fatol, adaptive, bounds, **unknown_options)\u001b[0m\n\u001b[1;32m    815\u001b[0m \u001b[38;5;28;01mtry\u001b[39;00m:\n\u001b[1;32m    816\u001b[0m     \u001b[38;5;28;01mfor\u001b[39;00m k \u001b[38;5;129;01min\u001b[39;00m \u001b[38;5;28mrange\u001b[39m(N \u001b[38;5;241m+\u001b[39m \u001b[38;5;241m1\u001b[39m):\n\u001b[0;32m--> 817\u001b[0m         fsim[k] \u001b[38;5;241m=\u001b[39m \u001b[43mfunc\u001b[49m\u001b[43m(\u001b[49m\u001b[43msim\u001b[49m\u001b[43m[\u001b[49m\u001b[43mk\u001b[49m\u001b[43m]\u001b[49m\u001b[43m)\u001b[49m\n\u001b[1;32m    818\u001b[0m \u001b[38;5;28;01mexcept\u001b[39;00m _MaxFuncCallError:\n\u001b[1;32m    819\u001b[0m     \u001b[38;5;28;01mpass\u001b[39;00m\n",
      "File \u001b[0;32m~/.local/lib/python3.10/site-packages/scipy/optimize/_optimize.py:526\u001b[0m, in \u001b[0;36m_wrap_scalar_function_maxfun_validation.<locals>.function_wrapper\u001b[0;34m(x, *wrapper_args)\u001b[0m\n\u001b[1;32m    524\u001b[0m ncalls[\u001b[38;5;241m0\u001b[39m] \u001b[38;5;241m+\u001b[39m\u001b[38;5;241m=\u001b[39m \u001b[38;5;241m1\u001b[39m\n\u001b[1;32m    525\u001b[0m \u001b[38;5;66;03m# A copy of x is sent to the user function (gh13740)\u001b[39;00m\n\u001b[0;32m--> 526\u001b[0m fx \u001b[38;5;241m=\u001b[39m \u001b[43mfunction\u001b[49m\u001b[43m(\u001b[49m\u001b[43mnp\u001b[49m\u001b[38;5;241;43m.\u001b[39;49m\u001b[43mcopy\u001b[49m\u001b[43m(\u001b[49m\u001b[43mx\u001b[49m\u001b[43m)\u001b[49m\u001b[43m,\u001b[49m\u001b[43m \u001b[49m\u001b[38;5;241;43m*\u001b[39;49m\u001b[43m(\u001b[49m\u001b[43mwrapper_args\u001b[49m\u001b[43m \u001b[49m\u001b[38;5;241;43m+\u001b[39;49m\u001b[43m \u001b[49m\u001b[43margs\u001b[49m\u001b[43m)\u001b[49m\u001b[43m)\u001b[49m\n\u001b[1;32m    527\u001b[0m \u001b[38;5;66;03m# Ideally, we'd like to a have a true scalar returned from f(x). For\u001b[39;00m\n\u001b[1;32m    528\u001b[0m \u001b[38;5;66;03m# backwards-compatibility, also allow np.array([1.3]),\u001b[39;00m\n\u001b[1;32m    529\u001b[0m \u001b[38;5;66;03m# np.array([[1.3]]) etc.\u001b[39;00m\n\u001b[1;32m    530\u001b[0m \u001b[38;5;28;01mif\u001b[39;00m \u001b[38;5;129;01mnot\u001b[39;00m np\u001b[38;5;241m.\u001b[39misscalar(fx):\n",
      "File \u001b[0;32m~/Modelling/fumarolePlumeModel/model_synthdata_inversion.py:168\u001b[0m, in \u001b[0;36mobjective_fn\u001b[0;34m(model, data, errors, mode)\u001b[0m\n\u001b[1;32m    165\u001b[0m \u001b[38;5;28;01mdef\u001b[39;00m \u001b[38;5;21mobjective_fn\u001b[39m(model, data, errors, mode\u001b[38;5;241m=\u001b[39m\u001b[38;5;124m'\u001b[39m\u001b[38;5;124mlstsq\u001b[39m\u001b[38;5;124m'\u001b[39m):\n\u001b[1;32m    166\u001b[0m \u001b[38;5;250m    \u001b[39m\u001b[38;5;124;03m\"\"\"Calculate and return the objective (model misfit) function\"\"\"\u001b[39;00m\n\u001b[0;32m--> 168\u001b[0m     Gm_d   \u001b[38;5;241m=\u001b[39m \u001b[43mmodel\u001b[49m\u001b[43m \u001b[49m\u001b[38;5;241;43m-\u001b[39;49m\u001b[43m \u001b[49m\u001b[43mdata\u001b[49m\n\u001b[1;32m    169\u001b[0m     \u001b[38;5;28;01mif\u001b[39;00m mode \u001b[38;5;241m!=\u001b[39m \u001b[38;5;124m'\u001b[39m\u001b[38;5;124mlstsq\u001b[39m\u001b[38;5;124m'\u001b[39m:\n\u001b[1;32m    170\u001b[0m         \u001b[38;5;66;03m# errors should be in 1D array form in this case,\u001b[39;00m\n\u001b[1;32m    171\u001b[0m         \u001b[38;5;66;03m# apply the absolute value\u001b[39;00m\n\u001b[1;32m    172\u001b[0m         \u001b[38;5;28;01mreturn\u001b[39;00m \u001b[38;5;241m1\u001b[39m \u001b[38;5;241m-\u001b[39m np\u001b[38;5;241m.\u001b[39mexp((\u001b[38;5;241m-\u001b[39mnp\u001b[38;5;241m.\u001b[39mabs(Gm_d) \u001b[38;5;241m*\u001b[39m np\u001b[38;5;241m.\u001b[39msqrt(errors))\u001b[38;5;241m.\u001b[39msum())\n",
      "\u001b[0;31mValueError\u001b[0m: operands could not be broadcast together with shapes (6,) (1467,) "
     ]
    },
    {
     "data": {
      "image/png": "[encoded data removed]",
      "text/plain": [
       "<Figure size 283.465x283.465 with 1 Axes>"
      ]
     },
     "metadata": {
      "needs_background": "light"
     },
     "output_type": "display_data"
    }
   ],
   "source": [
    "rho0 = 0.5   # careful, density will vary with temperature!\n",
    "Cp0  = 1885  # careful, Cp0 will vary with temperatur!e\n",
    "Rp0  = 462   # careful, Rp0 will vary with temperatur!e\n",
    "Pa0  = 86000 # Atmospheric pressure at altitude of la Soufrière\n",
    "theta0 = np.pi/2\n",
    "n0   = 0.05  # Fumarole plumes are always 95% vapour?\n",
    "Ta0  = 291   # Tair 2-year average at Sanner\n",
    "npts = 501\n",
    "s    = np.linspace(0, 250, npts)\n",
    "Tt   = iapws1995.Tt\n",
    "\n",
    "# variables\n",
    "N  = 21\n",
    "R0 = np.linspace(0.1, 1, N)  \n",
    "T0 = np.linspace(80 + Tt, 160 + Tt, N)\n",
    "u0 = np.linspace(0.1, 100, N)\n",
    "\n",
    "rho0true = .5\n",
    "R0true = .5\n",
    "T0true = Tt + 96\n",
    "u0true = 10\n",
    "Q0true = rho0true * u0true * R0true**2 * np.pi\n",
    "M0true = Q0true * u0true\n",
    "E0true = Q0true * Cp0 * T0true\n",
    "V0true = [Q0true, M0true, E0true, theta0, Pa0, n0]\n",
    "\n",
    "sol_true = solve_ivp(derivs, [s[0], s[-1]], V0true, t_eval=s)\n",
    "\n",
    "# Produce \"true\" data values\n",
    "sol  = sol_true\n",
    "rho  = density_fume(sol.t, sol.y)\n",
    "T    = temperature_fume(sol.t, sol.y) - Tt\n",
    "Cp   = heat_capacity(sol.t, sol.y)\n",
    "b    = sol.y[0] / np.sqrt(rho * sol.y[1])\n",
    "u    = sol.y[1] / sol.y[0]\n",
    "theta = sol.y[3]\n",
    "\n",
    "cutoff = b.argmax()\n",
    "s = s[:cutoff]\n",
    "b = b[:cutoff]\n",
    "u = u[:cutoff]\n",
    "T = T[:cutoff]\n",
    "theta = theta[:cutoff]\n",
    "\n",
    "sigtheta, sigb, sigT = np.pi / 20, .1, .5  # rad, m and K\n",
    "Cd_inv = np.diag(np.array([1 / sigtheta**2 * np.ones_like(theta),\n",
    "                           1 / sigb**2 * np.ones_like(b),\n",
    "                           1 / sigT**2 * np.ones_like(T)]).ravel())\n",
    "\n",
    "solp = np.array([theta, b, T])\n",
    "noise = np.random.randn(*solp.shape)  # Gaussian noise, _N_(0,1)\n",
    "sol_noise = (solp.T + noise.T * (sigtheta, sigb, sigT)).T\n",
    "d    = sol_noise.flatten()  # array of data\n",
    "Gm   = produce_Gm(sol, cutoff)\n",
    "Gm_d = Gm - d\n",
    "\n",
    "fig0, ax0 = plt.subplots(figsize=(10*cm, 10*cm))\n",
    "ax0.plot(solp.T, s, '-')\n",
    "ax0.set_xlabel('Plume parameters')\n",
    "ax0.set_ylabel(r'Distance along plume axis, $s$')\n",
    "ax0.legend((r'$\\theta$', r'$R$', r'$T$'))\n",
    "\n",
    "plt.gca().set_prop_cycle(None)  # reset colour cycle\n",
    "# ax0.plot(sol_noise.T, s, '.')\n",
    "\n",
    "fig0.tight_layout()\n",
    "fig0.savefig('./images/synthetic_model_data.pdf', dpi=300)\n",
    "\n",
    "skip = 10\n",
    "ax0.plot(sol_noise.T[::skip], s[::skip], '.')\n",
    "fig0.savefig('./images/synthetic_model_data_noise.pdf', dpi=300)\n",
    "\n",
    "E = objective_fn(Gm, d, np.diag(Cd_inv), mode='abs')\n",
    "print(E)\n",
    "\n",
    "opt_V0 = minimize(objective_fn, x0=V0true, method='Nelder-Mead', args=(d, np.diag(Cd_inv), 'abs'), )"
   ]
  },
  {
   "cell_type": "code",
   "execution_count": null,
   "id": "9cadfa26-422b-4399-8f27-71a937677d24",
   "metadata": {
    "tags": []
   },
   "outputs": [],
   "source": [
    "print(d.reshape((3, -1)).shape)\n",
    "\n",
    "print(sol)"
   ]
  },
  {
   "cell_type": "code",
   "execution_count": 5,
   "id": "9f5e58a2-866b-4971-a698-67cd1d12d9d2",
   "metadata": {},
   "outputs": [],
   "source": [
    "def parallel_job(u0, R0, T0):\n",
    "    warnings.filterwarnings('ignore')\n",
    "    V0   = [1, 1, Cp0 * T0, 1, 1, .05]  # required for routines\n",
    "    rho0 = density_fume(0, V0)\n",
    "    Q0   = rho0 * np.pi * R0**2 * u0\n",
    "    M0   = Q0 * u0\n",
    "    E0   = Q0 * Cp0 * T0\n",
    "    V0   = [Q0, M0, E0, np.pi/2, Pa0, .05]\n",
    "\n",
    "    sol  = solve_ivp(derivs, [s[0], s[-1]], V0, t_eval=s)\n",
    "    \n",
    "    Gm   = produce_Gm(sol, cutoff)\n",
    "\n",
    "    return objective_fn(Gm, d, Cd_inv, mode='lstsq'), V0"
   ]
  },
  {
   "cell_type": "code",
   "execution_count": 6,
   "id": "8f9e1ff4-deb3-40cf-b6cc-c0ff40575fe3",
   "metadata": {},
   "outputs": [
    {
     "ename": "ValueError",
     "evalue": "operands could not be broadcast together with shapes (1137,) (1467,) ",
     "output_type": "error",
     "traceback": [
      "\u001b[0;31m---------------------------------------------------------------------------\u001b[0m",
      "\u001b[0;31m_RemoteTraceback\u001b[0m                          Traceback (most recent call last)",
      "\u001b[0;31m_RemoteTraceback\u001b[0m: \n\"\"\"\nTraceback (most recent call last):\n  File \"/home/david/.local/lib/python3.10/site-packages/joblib/externals/loky/process_executor.py\", line 428, in _process_worker\n    r = call_item()\n  File \"/home/david/.local/lib/python3.10/site-packages/joblib/externals/loky/process_executor.py\", line 275, in __call__\n    return self.fn(*self.args, **self.kwargs)\n  File \"/home/david/.local/lib/python3.10/site-packages/joblib/_parallel_backends.py\", line 620, in __call__\n    return self.func(*args, **kwargs)\n  File \"/home/david/.local/lib/python3.10/site-packages/joblib/parallel.py\", line 288, in __call__\n    return [func(*args, **kwargs)\n  File \"/home/david/.local/lib/python3.10/site-packages/joblib/parallel.py\", line 288, in <listcomp>\n    return [func(*args, **kwargs)\n  File \"/tmp/ipykernel_201820/575586347.py\", line 14, in parallel_job\n  File \"/home/david/Modelling/fumarolePlumeModel/model_synthdata_inversion.py\", line 168, in objective_fn\n    Gm_d   = model - data\nValueError: operands could not be broadcast together with shapes (1137,) (1467,) \n\"\"\"",
      "\nThe above exception was the direct cause of the following exception:\n",
      "\u001b[0;31mValueError\u001b[0m                                Traceback (most recent call last)",
      "Cell \u001b[0;32mIn[6], line 13\u001b[0m\n\u001b[1;32m     10\u001b[0m sequence \u001b[38;5;241m=\u001b[39m [R0, T0]\n\u001b[1;32m     11\u001b[0m objFn, initialConds \u001b[38;5;241m=\u001b[39m [], []\n\u001b[0;32m---> 13\u001b[0m results \u001b[38;5;241m=\u001b[39m \u001b[43mParallel\u001b[49m\u001b[43m(\u001b[49m\u001b[43mn_jobs\u001b[49m\u001b[38;5;241;43m=\u001b[39;49m\u001b[43mnjobs\u001b[49m\u001b[43m)\u001b[49m\u001b[43m(\u001b[49m\u001b[43mdelayed\u001b[49m\u001b[43m(\u001b[49m\u001b[43mparallel_job\u001b[49m\u001b[43m)\u001b[49m\u001b[43m(\u001b[49m\u001b[43mu0\u001b[49m\u001b[43m,\u001b[49m\u001b[43m \u001b[49m\u001b[43mR0_\u001b[49m\u001b[43m,\u001b[49m\u001b[43m \u001b[49m\u001b[43mT0_\u001b[49m\u001b[43m)\u001b[49m\u001b[43m \u001b[49m\n\u001b[1;32m     14\u001b[0m \u001b[43m                                 \u001b[49m\u001b[38;5;28;43;01mfor\u001b[39;49;00m\u001b[43m \u001b[49m\u001b[43m(\u001b[49m\u001b[43mR0_\u001b[49m\u001b[43m,\u001b[49m\u001b[43m \u001b[49m\u001b[43mT0_\u001b[49m\u001b[43m)\u001b[49m\u001b[43m \u001b[49m\u001b[38;5;129;43;01min\u001b[39;49;00m\u001b[43m \u001b[49m\u001b[38;5;28;43mlist\u001b[39;49m\u001b[43m(\u001b[49m\u001b[43mproduct\u001b[49m\u001b[43m(\u001b[49m\u001b[38;5;241;43m*\u001b[39;49m\u001b[43msequence\u001b[49m\u001b[43m)\u001b[49m\u001b[43m)\u001b[49m\u001b[43m)\u001b[49m\n\u001b[1;32m     15\u001b[0m \u001b[38;5;66;03m# for (u0_, R0_, T0_) in list(product(*sequence)):\u001b[39;00m\n\u001b[1;32m     16\u001b[0m \u001b[38;5;66;03m#     print(u0_, R0_, T0_)\u001b[39;00m\n\u001b[1;32m     17\u001b[0m \u001b[38;5;66;03m#     results = parallel_job(u0_, R0_, T0_)\u001b[39;00m\n\u001b[1;32m     18\u001b[0m \u001b[38;5;66;03m#     objFn.append(results[0])\u001b[39;00m\n\u001b[1;32m     19\u001b[0m \u001b[38;5;66;03m#     initialConds.append(results[1])\u001b[39;00m\n\u001b[1;32m     21\u001b[0m \u001b[38;5;28mprint\u001b[39m(\u001b[38;5;124m\"\u001b[39m\u001b[38;5;124mJob ran in \u001b[39m\u001b[38;5;132;01m%.3f\u001b[39;00m\u001b[38;5;124m s\u001b[39m\u001b[38;5;124m\"\u001b[39m \u001b[38;5;241m%\u001b[39m (time\u001b[38;5;241m.\u001b[39mtime() \u001b[38;5;241m-\u001b[39m t))\n",
      "File \u001b[0;32m~/.local/lib/python3.10/site-packages/joblib/parallel.py:1098\u001b[0m, in \u001b[0;36mParallel.__call__\u001b[0;34m(self, iterable)\u001b[0m\n\u001b[1;32m   1095\u001b[0m     \u001b[38;5;28mself\u001b[39m\u001b[38;5;241m.\u001b[39m_iterating \u001b[38;5;241m=\u001b[39m \u001b[38;5;28;01mFalse\u001b[39;00m\n\u001b[1;32m   1097\u001b[0m \u001b[38;5;28;01mwith\u001b[39;00m \u001b[38;5;28mself\u001b[39m\u001b[38;5;241m.\u001b[39m_backend\u001b[38;5;241m.\u001b[39mretrieval_context():\n\u001b[0;32m-> 1098\u001b[0m     \u001b[38;5;28;43mself\u001b[39;49m\u001b[38;5;241;43m.\u001b[39;49m\u001b[43mretrieve\u001b[49m\u001b[43m(\u001b[49m\u001b[43m)\u001b[49m\n\u001b[1;32m   1099\u001b[0m \u001b[38;5;66;03m# Make sure that we get a last message telling us we are done\u001b[39;00m\n\u001b[1;32m   1100\u001b[0m elapsed_time \u001b[38;5;241m=\u001b[39m time\u001b[38;5;241m.\u001b[39mtime() \u001b[38;5;241m-\u001b[39m \u001b[38;5;28mself\u001b[39m\u001b[38;5;241m.\u001b[39m_start_time\n",
      "File \u001b[0;32m~/.local/lib/python3.10/site-packages/joblib/parallel.py:975\u001b[0m, in \u001b[0;36mParallel.retrieve\u001b[0;34m(self)\u001b[0m\n\u001b[1;32m    973\u001b[0m \u001b[38;5;28;01mtry\u001b[39;00m:\n\u001b[1;32m    974\u001b[0m     \u001b[38;5;28;01mif\u001b[39;00m \u001b[38;5;28mgetattr\u001b[39m(\u001b[38;5;28mself\u001b[39m\u001b[38;5;241m.\u001b[39m_backend, \u001b[38;5;124m'\u001b[39m\u001b[38;5;124msupports_timeout\u001b[39m\u001b[38;5;124m'\u001b[39m, \u001b[38;5;28;01mFalse\u001b[39;00m):\n\u001b[0;32m--> 975\u001b[0m         \u001b[38;5;28mself\u001b[39m\u001b[38;5;241m.\u001b[39m_output\u001b[38;5;241m.\u001b[39mextend(\u001b[43mjob\u001b[49m\u001b[38;5;241;43m.\u001b[39;49m\u001b[43mget\u001b[49m\u001b[43m(\u001b[49m\u001b[43mtimeout\u001b[49m\u001b[38;5;241;43m=\u001b[39;49m\u001b[38;5;28;43mself\u001b[39;49m\u001b[38;5;241;43m.\u001b[39;49m\u001b[43mtimeout\u001b[49m\u001b[43m)\u001b[49m)\n\u001b[1;32m    976\u001b[0m     \u001b[38;5;28;01melse\u001b[39;00m:\n\u001b[1;32m    977\u001b[0m         \u001b[38;5;28mself\u001b[39m\u001b[38;5;241m.\u001b[39m_output\u001b[38;5;241m.\u001b[39mextend(job\u001b[38;5;241m.\u001b[39mget())\n",
      "File \u001b[0;32m~/.local/lib/python3.10/site-packages/joblib/_parallel_backends.py:567\u001b[0m, in \u001b[0;36mLokyBackend.wrap_future_result\u001b[0;34m(future, timeout)\u001b[0m\n\u001b[1;32m    564\u001b[0m \u001b[38;5;250m\u001b[39m\u001b[38;5;124;03m\"\"\"Wrapper for Future.result to implement the same behaviour as\u001b[39;00m\n\u001b[1;32m    565\u001b[0m \u001b[38;5;124;03mAsyncResults.get from multiprocessing.\"\"\"\u001b[39;00m\n\u001b[1;32m    566\u001b[0m \u001b[38;5;28;01mtry\u001b[39;00m:\n\u001b[0;32m--> 567\u001b[0m     \u001b[38;5;28;01mreturn\u001b[39;00m \u001b[43mfuture\u001b[49m\u001b[38;5;241;43m.\u001b[39;49m\u001b[43mresult\u001b[49m\u001b[43m(\u001b[49m\u001b[43mtimeout\u001b[49m\u001b[38;5;241;43m=\u001b[39;49m\u001b[43mtimeout\u001b[49m\u001b[43m)\u001b[49m\n\u001b[1;32m    568\u001b[0m \u001b[38;5;28;01mexcept\u001b[39;00m CfTimeoutError \u001b[38;5;28;01mas\u001b[39;00m e:\n\u001b[1;32m    569\u001b[0m     \u001b[38;5;28;01mraise\u001b[39;00m \u001b[38;5;167;01mTimeoutError\u001b[39;00m \u001b[38;5;28;01mfrom\u001b[39;00m \u001b[38;5;21;01me\u001b[39;00m\n",
      "File \u001b[0;32m/usr/lib/python3.10/concurrent/futures/_base.py:458\u001b[0m, in \u001b[0;36mFuture.result\u001b[0;34m(self, timeout)\u001b[0m\n\u001b[1;32m    456\u001b[0m     \u001b[38;5;28;01mraise\u001b[39;00m CancelledError()\n\u001b[1;32m    457\u001b[0m \u001b[38;5;28;01melif\u001b[39;00m \u001b[38;5;28mself\u001b[39m\u001b[38;5;241m.\u001b[39m_state \u001b[38;5;241m==\u001b[39m FINISHED:\n\u001b[0;32m--> 458\u001b[0m     \u001b[38;5;28;01mreturn\u001b[39;00m \u001b[38;5;28;43mself\u001b[39;49m\u001b[38;5;241;43m.\u001b[39;49m\u001b[43m__get_result\u001b[49m\u001b[43m(\u001b[49m\u001b[43m)\u001b[49m\n\u001b[1;32m    459\u001b[0m \u001b[38;5;28;01melse\u001b[39;00m:\n\u001b[1;32m    460\u001b[0m     \u001b[38;5;28;01mraise\u001b[39;00m \u001b[38;5;167;01mTimeoutError\u001b[39;00m()\n",
      "File \u001b[0;32m/usr/lib/python3.10/concurrent/futures/_base.py:403\u001b[0m, in \u001b[0;36mFuture.__get_result\u001b[0;34m(self)\u001b[0m\n\u001b[1;32m    401\u001b[0m \u001b[38;5;28;01mif\u001b[39;00m \u001b[38;5;28mself\u001b[39m\u001b[38;5;241m.\u001b[39m_exception:\n\u001b[1;32m    402\u001b[0m     \u001b[38;5;28;01mtry\u001b[39;00m:\n\u001b[0;32m--> 403\u001b[0m         \u001b[38;5;28;01mraise\u001b[39;00m \u001b[38;5;28mself\u001b[39m\u001b[38;5;241m.\u001b[39m_exception\n\u001b[1;32m    404\u001b[0m     \u001b[38;5;28;01mfinally\u001b[39;00m:\n\u001b[1;32m    405\u001b[0m         \u001b[38;5;66;03m# Break a reference cycle with the exception in self._exception\u001b[39;00m\n\u001b[1;32m    406\u001b[0m         \u001b[38;5;28mself\u001b[39m \u001b[38;5;241m=\u001b[39m \u001b[38;5;28;01mNone\u001b[39;00m\n",
      "\u001b[0;31mValueError\u001b[0m: operands could not be broadcast together with shapes (1137,) (1467,) "
     ]
    }
   ],
   "source": [
    "njobs = 16\n",
    "ngrid = 21\n",
    "u0 = u0true  # np.linspace(.1, 100, ngrid)\n",
    "R0 = np.linspace(.1, 10,  ngrid)\n",
    "T0 = np.linspace(60, 150, ngrid) + Tt\n",
    "\n",
    "sequence = [u0, R0, T0]\n",
    "\n",
    "t = time.time()\n",
    "sequence = [R0, T0]\n",
    "objFn, initialConds = [], []\n",
    "\n",
    "results = Parallel(n_jobs=njobs)(delayed(parallel_job)(u0, R0_, T0_) \n",
    "                                 for (R0_, T0_) in list(product(*sequence)))\n",
    "# for (u0_, R0_, T0_) in list(product(*sequence)):\n",
    "#     print(u0_, R0_, T0_)\n",
    "#     results = parallel_job(u0_, R0_, T0_)\n",
    "#     objFn.append(results[0])\n",
    "#     initialConds.append(results[1])\n",
    "\n",
    "print(\"Job ran in %.3f s\" % (time.time() - t))\n",
    "\n",
    "objFn, initialConds = [], []\n",
    "\n",
    "for result in results:\n",
    "    objFn.append(result[0])\n",
    "    initialConds.append(result[1])\n",
    "\n",
    "initialConds = np.array(initialConds)\n",
    "objFn = np.array(objFn).reshape((-1, ngrid))"
   ]
  },
  {
   "cell_type": "code",
   "execution_count": null,
   "id": "cc3549eb-1e73-4412-867e-06e9d7fb67b7",
   "metadata": {},
   "outputs": [],
   "source": [
    "fig, ax = plt.subplots() #ncols=ngrid)\n",
    "\n",
    "# for ind, (ax, u0_) in enumerate(axes, u0):\n",
    "ax.pcolor(R0, T0, -objFn[:], norm=LogNorm())\n",
    "# ax,set_title(f'$u_0 = {u0_}')"
   ]
  },
  {
   "cell_type": "code",
   "execution_count": null,
   "id": "a43f4655-bc14-4403-82e3-624f86fe2747",
   "metadata": {},
   "outputs": [],
   "source": []
  }
 ],
 "metadata": {
  "kernelspec": {
   "display_name": "Python 3 (ipykernel)",
   "language": "python",
   "name": "python3"
  },
  "language_info": {
   "codemirror_mode": {
    "name": "ipython",
    "version": 3
   },
   "file_extension": ".py",
   "mimetype": "text/x-python",
   "name": "python",
   "nbconvert_exporter": "python",
   "pygments_lexer": "ipython3",
   "version": "3.10.12"
  }
 },
 "nbformat": 4,
 "nbformat_minor": 5
}
